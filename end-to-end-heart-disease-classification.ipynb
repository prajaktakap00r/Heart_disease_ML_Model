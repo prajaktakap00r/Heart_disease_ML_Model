{

 "cells": [
  {
   "cell_type": "markdown",
   "id": "299cd018-cc88-4d6f-a46c-e5cbbf192bbe",
   "metadata": {},
   "source": [
    "# Predicting Heart Disease Using ML \n",
    "\n",
    "Approach:\n",
    "1. Problem Defenition\n",
    "2. Data\n",
    "3. Evaluation\n",
    "4. Features\n",
    "5. Modelling\n",
    "6. Experimentation\n",
    "\n",
    "## 1. Problem Statement\n",
    "> Given Clinical parameters about a patient , can we predict whether or not they have heart disease?\n",
    "\n",
    "## 2. Data\n",
    "kaggle data: https://www.kaggle.com/datasets/redwankarimsony/heart-disease-data\n",
    "\n",
    "## 3. Evaluation\n",
    ">If we can reach 95% accuracy at predicting whether or not a patient has heart disease during the proof of concept, we'll pursue the project.\n",
    "\n",
    "## 4. Features\n",
    "This is where you'll get different information about each of the features in your data. You can do this via doing your own research (such as looking at the links above) or by talking to a subject matter expert (someone who knows about the dataset).\n",
    "\n",
    "Create data dictionary\n",
    "\n",
    "1. age - age in years\n",
    "   \n",
    "2. sex - (1 = male; 0 = female)\n",
    "   \n",
    "3. cp - chest pain type\n",
    "   * 0: Typical angina: chest pain related decrease blood supply to the heart\n",
    "   * 1: Atypical angina: chest pain not related to heart\n",
    "   * 2: Non-anginal pain: typically esophageal spasms (non heart related)\n",
    "   * 3: Asymptomatic: chest pain not showing signs of disease\n",
    "4. trestbps - resting blood pressure (in mm Hg on admission to the hospital) anything above 130-140 is typically cause for concern\n",
    "5. chol - serum cholestoral in mg/dl\n",
    "   * serum = LDL + HDL + .2 * triglycerides\n",
    "   * above 200 is cause for concern\n",
    "     \n",
    "6. fbs - (fasting blood sugar > 120 mg/dl) (1 = true; 0 = false)\n",
    "   '>126' mg/dL signals diabetes\n",
    "   \n",
    "7. restecg - resting electrocardiographic results\n",
    "   * 0: Nothing to note\n",
    "   * 1: ST-T Wave abnormality\n",
    "        can range from mild symptoms to severe problems\n",
    "        signals non-normal heart beat\n",
    "   * 2: Possible or definite left ventricular hypertrophy\n",
    "        Enlarged heart's main pumping chamber\n",
    "     \n",
    "8. thalach - maximum heart rate achieved\n",
    "   \n",
    "9. exang - exercise induced angina (1 = yes; 0 = no)\n",
    "    \n",
    "10. oldpeak - ST depression induced by exercise relative to rest looks at stress of heart during excercise unhealthy heart will stress more\n",
    "    \n",
    "11. slope - the slope of the peak exercise ST segment\n",
    "   * 0: Upsloping: better heart rate with excercise (uncommon)\n",
    "   * 1: Flatsloping: minimal change (typical healthy heart)\n",
    "   * 2: Downslopins: signs of unhealthy heart\n",
    "     \n",
    "12. ca - number of major vessels (0-3) colored by flourosopy\n",
    "   * colored vessel means the doctor can see the blood passing through\n",
    "   * the more blood movement the better (no clots)\n",
    "     \n",
    "13.  thal - thalium stress result\n",
    "   * 1,3: normal\n",
    "   * 6: fixed defect: used to be defect but ok now\n",
    "   * 7: reversable defect: no proper blood movement when excercising\n",
    "     \n",
    "14. target - have disease or not (1=yes, 0=no) (= the predicted attribute)\n",
    "\n",
    "## 5. Modelling"
   ]
  },
  {
   "cell_type": "code",
   "execution_count": 1,
   "id": "cb36b29c-ff39-4eff-9ea6-0deddf01baa8",
   "metadata": {},
   "outputs": [],
   "source": [
    "import numpy as np\n",
    "import pandas as pd\n",
    "import seaborn as sns\n",
    "import matplotlib.pyplot as plt\n",
    "\n",
    "# we want our plot to appear inside notebook\n",
    "%matplotlib inline\n",
    "\n",
    "from sklearn.ensemble import RandomForestClassifier\n",
    "from sklearn.neighbors import KNeighborsClassifier\n",
    "from sklearn.linear_model import LogisticRegression\n",
    "\n",
    "from sklearn.model_selection import train_test_split, cross_val_score\n",
    "from sklearn.metrics import precision_score, f1_score, recall_score, accuracy_score, classification_report, confusion_matrix\n",
    "from sklearn.model_selection import RandomizedSearchCV , GridSearchCV\n",
    "from sklearn.metrics import RocCurveDisplay "
   ]
  },
  {
   "cell_type": "markdown",
   "id": "dd8a95ad-5923-470a-8634-9530bb83e70c",
   "metadata": {},
   "source": [
    "## Load"
   ]
  },
  {
   "cell_type": "code",
   "execution_count": 2,
   "id": "d4474abd-a3a9-41ac-a683-64793037ca53",
   "metadata": {},
   "outputs": [
    {
     "data": {
      "text/html": [
       "<div>\n",
       "<style scoped>\n",
       "    .dataframe tbody tr th:only-of-type {\n",
       "        vertical-align: middle;\n",
       "    }\n",
       "\n",
       "    .dataframe tbody tr th {\n",
       "        vertical-align: top;\n",
       "    }\n",
       "\n",
       "    .dataframe thead th {\n",
       "        text-align: right;\n",
       "    }\n",
       "</style>\n",
       "<table border=\"1\" class=\"dataframe\">\n",
       "  <thead>\n",
       "    <tr style=\"text-align: right;\">\n",
       "      <th></th>\n",
       "      <th>age</th>\n",
       "      <th>sex</th>\n",
       "      <th>cp</th>\n",
       "      <th>trestbps</th>\n",
       "      <th>chol</th>\n",
       "      <th>fbs</th>\n",
       "      <th>restecg</th>\n",
       "      <th>thalach</th>\n",
       "      <th>exang</th>\n",
       "      <th>oldpeak</th>\n",
       "      <th>slope</th>\n",
       "      <th>ca</th>\n",
       "      <th>thal</th>\n",
       "      <th>target</th>\n",
       "    </tr>\n",
       "  </thead>\n",
       "  <tbody>\n",
       "    <tr>\n",
       "      <th>0</th>\n",
       "      <td>63</td>\n",
       "      <td>1</td>\n",
       "      <td>3</td>\n",
       "      <td>145</td>\n",
       "      <td>233</td>\n",
       "      <td>1</td>\n",
       "      <td>0</td>\n",
       "      <td>150</td>\n",
       "      <td>0</td>\n",
       "      <td>2.3</td>\n",
       "      <td>0</td>\n",
       "      <td>0</td>\n",
       "      <td>1</td>\n",
       "      <td>1</td>\n",
       "    </tr>\n",
       "    <tr>\n",
       "      <th>1</th>\n",
       "      <td>37</td>\n",
       "      <td>1</td>\n",
       "      <td>2</td>\n",
       "      <td>130</td>\n",
       "      <td>250</td>\n",
       "      <td>0</td>\n",
       "      <td>1</td>\n",
       "      <td>187</td>\n",
       "      <td>0</td>\n",
       "      <td>3.5</td>\n",
       "      <td>0</td>\n",
       "      <td>0</td>\n",
       "      <td>2</td>\n",
       "      <td>1</td>\n",
       "    </tr>\n",
       "    <tr>\n",
       "      <th>2</th>\n",
       "      <td>41</td>\n",
       "      <td>0</td>\n",
       "      <td>1</td>\n",
       "      <td>130</td>\n",
       "      <td>204</td>\n",
       "      <td>0</td>\n",
       "      <td>0</td>\n",
       "      <td>172</td>\n",
       "      <td>0</td>\n",
       "      <td>1.4</td>\n",
       "      <td>2</td>\n",
       "      <td>0</td>\n",
       "      <td>2</td>\n",
       "      <td>1</td>\n",
       "    </tr>\n",
       "    <tr>\n",
       "      <th>3</th>\n",
       "      <td>56</td>\n",
       "      <td>1</td>\n",
       "      <td>1</td>\n",
       "      <td>120</td>\n",
       "      <td>236</td>\n",
       "      <td>0</td>\n",
       "      <td>1</td>\n",
       "      <td>178</td>\n",
       "      <td>0</td>\n",
       "      <td>0.8</td>\n",
       "      <td>2</td>\n",
       "      <td>0</td>\n",
       "      <td>2</td>\n",
       "      <td>1</td>\n",
       "    </tr>\n",
       "    <tr>\n",
       "      <th>4</th>\n",
       "      <td>57</td>\n",
       "      <td>0</td>\n",
       "      <td>0</td>\n",
       "      <td>120</td>\n",
       "      <td>354</td>\n",
       "      <td>0</td>\n",
       "      <td>1</td>\n",
       "      <td>163</td>\n",
       "      <td>1</td>\n",
       "      <td>0.6</td>\n",
       "      <td>2</td>\n",
       "      <td>0</td>\n",
       "      <td>2</td>\n",
       "      <td>1</td>\n",
       "    </tr>\n",
       "    <tr>\n",
       "      <th>...</th>\n",
       "      <td>...</td>\n",
       "      <td>...</td>\n",
       "      <td>...</td>\n",
       "      <td>...</td>\n",
       "      <td>...</td>\n",
       "      <td>...</td>\n",
       "      <td>...</td>\n",
       "      <td>...</td>\n",
       "      <td>...</td>\n",
       "      <td>...</td>\n",
       "      <td>...</td>\n",
       "      <td>...</td>\n",
       "      <td>...</td>\n",
       "      <td>...</td>\n",
       "    </tr>\n",
       "    <tr>\n",
       "      <th>298</th>\n",
       "      <td>57</td>\n",
       "      <td>0</td>\n",
       "      <td>0</td>\n",
       "      <td>140</td>\n",
       "      <td>241</td>\n",
       "      <td>0</td>\n",
       "      <td>1</td>\n",
       "      <td>123</td>\n",
       "      <td>1</td>\n",
       "      <td>0.2</td>\n",
       "      <td>1</td>\n",
       "      <td>0</td>\n",
       "      <td>3</td>\n",
       "      <td>0</td>\n",
       "    </tr>\n",
       "    <tr>\n",
       "      <th>299</th>\n",
       "      <td>45</td>\n",
       "      <td>1</td>\n",
       "      <td>3</td>\n",
       "      <td>110</td>\n",
       "      <td>264</td>\n",
       "      <td>0</td>\n",
       "      <td>1</td>\n",
       "      <td>132</td>\n",
       "      <td>0</td>\n",
       "      <td>1.2</td>\n",
       "      <td>1</td>\n",
       "      <td>0</td>\n",
       "      <td>3</td>\n",
       "      <td>0</td>\n",
       "    </tr>\n",
       "    <tr>\n",
       "      <th>300</th>\n",
       "      <td>68</td>\n",
       "      <td>1</td>\n",
       "      <td>0</td>\n",
       "      <td>144</td>\n",
       "      <td>193</td>\n",
       "      <td>1</td>\n",
       "      <td>1</td>\n",
       "      <td>141</td>\n",
       "      <td>0</td>\n",
       "      <td>3.4</td>\n",
       "      <td>1</td>\n",
       "      <td>2</td>\n",
       "      <td>3</td>\n",
       "      <td>0</td>\n",
       "    </tr>\n",
       "    <tr>\n",
       "      <th>301</th>\n",
       "      <td>57</td>\n",
       "      <td>1</td>\n",
       "      <td>0</td>\n",
       "      <td>130</td>\n",
       "      <td>131</td>\n",
       "      <td>0</td>\n",
       "      <td>1</td>\n",
       "      <td>115</td>\n",
       "      <td>1</td>\n",
       "      <td>1.2</td>\n",
       "      <td>1</td>\n",
       "      <td>1</td>\n",
       "      <td>3</td>\n",
       "      <td>0</td>\n",
       "    </tr>\n",
       "    <tr>\n",
       "      <th>302</th>\n",
       "      <td>57</td>\n",
       "      <td>0</td>\n",
       "      <td>1</td>\n",
       "      <td>130</td>\n",
       "      <td>236</td>\n",
       "      <td>0</td>\n",
       "      <td>0</td>\n",
       "      <td>174</td>\n",
       "      <td>0</td>\n",
       "      <td>0.0</td>\n",
       "      <td>1</td>\n",
       "      <td>1</td>\n",
       "      <td>2</td>\n",
       "      <td>0</td>\n",
       "    </tr>\n",
       "  </tbody>\n",
       "</table>\n",
       "<p>303 rows × 14 columns</p>\n",
       "</div>"
      ],
      "text/plain": [
       "     age  sex  cp  trestbps  chol  fbs  restecg  thalach  exang  oldpeak  \\\n",
       "0     63    1   3       145   233    1        0      150      0      2.3   \n",
       "1     37    1   2       130   250    0        1      187      0      3.5   \n",
       "2     41    0   1       130   204    0        0      172      0      1.4   \n",
       "3     56    1   1       120   236    0        1      178      0      0.8   \n",
       "4     57    0   0       120   354    0        1      163      1      0.6   \n",
       "..   ...  ...  ..       ...   ...  ...      ...      ...    ...      ...   \n",
       "298   57    0   0       140   241    0        1      123      1      0.2   \n",
       "299   45    1   3       110   264    0        1      132      0      1.2   \n",
       "300   68    1   0       144   193    1        1      141      0      3.4   \n",
       "301   57    1   0       130   131    0        1      115      1      1.2   \n",
       "302   57    0   1       130   236    0        0      174      0      0.0   \n",
       "\n",
       "     slope  ca  thal  target  \n",
       "0        0   0     1       1  \n",
       "1        0   0     2       1  \n",
       "2        2   0     2       1  \n",
       "3        2   0     2       1  \n",
       "4        2   0     2       1  \n",
       "..     ...  ..   ...     ...  \n",
       "298      1   0     3       0  \n",
       "299      1   0     3       0  \n",
       "300      1   2     3       0  \n",
       "301      1   1     3       0  \n",
       "302      1   1     2       0  \n",
       "\n",
       "[303 rows x 14 columns]"
      ]
     },
     "execution_count": 2,
     "metadata": {},
     "output_type": "execute_result"
    }
   ],
   "source": [
    "df=pd.read_csv(\"heart-disease.csv\")\n",
    "df"
   ]
  },
  {
   "cell_type": "code",
   "execution_count": 3,
   "id": "d44eff36-8ff7-404a-9ed2-a55aa6ca8966",
   "metadata": {},
   "outputs": [
    {
     "data": {
      "text/html": [
       "<div>\n",
       "<style scoped>\n",
       "    .dataframe tbody tr th:only-of-type {\n",
       "        vertical-align: middle;\n",
       "    }\n",
       "\n",
       "    .dataframe tbody tr th {\n",
       "        vertical-align: top;\n",
       "    }\n",
       "\n",
       "    .dataframe thead th {\n",
       "        text-align: right;\n",
       "    }\n",
       "</style>\n",
       "<table border=\"1\" class=\"dataframe\">\n",
       "  <thead>\n",
       "    <tr style=\"text-align: right;\">\n",
       "      <th></th>\n",
       "      <th>age</th>\n",
       "      <th>sex</th>\n",
       "      <th>cp</th>\n",
       "      <th>trestbps</th>\n",
       "      <th>chol</th>\n",
       "      <th>fbs</th>\n",
       "      <th>restecg</th>\n",
       "      <th>thalach</th>\n",
       "      <th>exang</th>\n",
       "      <th>oldpeak</th>\n",
       "      <th>slope</th>\n",
       "      <th>ca</th>\n",
       "      <th>thal</th>\n",
       "      <th>target</th>\n",
       "    </tr>\n",
       "  </thead>\n",
       "  <tbody>\n",
       "    <tr>\n",
       "      <th>0</th>\n",
       "      <td>63</td>\n",
       "      <td>1</td>\n",
       "      <td>3</td>\n",
       "      <td>145</td>\n",
       "      <td>233</td>\n",
       "      <td>1</td>\n",
       "      <td>0</td>\n",
       "      <td>150</td>\n",
       "      <td>0</td>\n",
       "      <td>2.3</td>\n",
       "      <td>0</td>\n",
       "      <td>0</td>\n",
       "      <td>1</td>\n",
       "      <td>1</td>\n",
       "    </tr>\n",
       "    <tr>\n",
       "      <th>1</th>\n",
       "      <td>37</td>\n",
       "      <td>1</td>\n",
       "      <td>2</td>\n",
       "      <td>130</td>\n",
       "      <td>250</td>\n",
       "      <td>0</td>\n",
       "      <td>1</td>\n",
       "      <td>187</td>\n",
       "      <td>0</td>\n",
       "      <td>3.5</td>\n",
       "      <td>0</td>\n",
       "      <td>0</td>\n",
       "      <td>2</td>\n",
       "      <td>1</td>\n",
       "    </tr>\n",
       "    <tr>\n",
       "      <th>2</th>\n",
       "      <td>41</td>\n",
       "      <td>0</td>\n",
       "      <td>1</td>\n",
       "      <td>130</td>\n",
       "      <td>204</td>\n",
       "      <td>0</td>\n",
       "      <td>0</td>\n",
       "      <td>172</td>\n",
       "      <td>0</td>\n",
       "      <td>1.4</td>\n",
       "      <td>2</td>\n",
       "      <td>0</td>\n",
       "      <td>2</td>\n",
       "      <td>1</td>\n",
       "    </tr>\n",
       "    <tr>\n",
       "      <th>3</th>\n",
       "      <td>56</td>\n",
       "      <td>1</td>\n",
       "      <td>1</td>\n",
       "      <td>120</td>\n",
       "      <td>236</td>\n",
       "      <td>0</td>\n",
       "      <td>1</td>\n",
       "      <td>178</td>\n",
       "      <td>0</td>\n",
       "      <td>0.8</td>\n",
       "      <td>2</td>\n",
       "      <td>0</td>\n",
       "      <td>2</td>\n",
       "      <td>1</td>\n",
       "    </tr>\n",
       "    <tr>\n",
       "      <th>4</th>\n",
       "      <td>57</td>\n",
       "      <td>0</td>\n",
       "      <td>0</td>\n",
       "      <td>120</td>\n",
       "      <td>354</td>\n",
       "      <td>0</td>\n",
       "      <td>1</td>\n",
       "      <td>163</td>\n",
       "      <td>1</td>\n",
       "      <td>0.6</td>\n",
       "      <td>2</td>\n",
       "      <td>0</td>\n",
       "      <td>2</td>\n",
       "      <td>1</td>\n",
       "    </tr>\n",
       "  </tbody>\n",
       "</table>\n",
       "</div>"
      ],
      "text/plain": [
       "   age  sex  cp  trestbps  chol  fbs  restecg  thalach  exang  oldpeak  slope  \\\n",
       "0   63    1   3       145   233    1        0      150      0      2.3      0   \n",
       "1   37    1   2       130   250    0        1      187      0      3.5      0   \n",
       "2   41    0   1       130   204    0        0      172      0      1.4      2   \n",
       "3   56    1   1       120   236    0        1      178      0      0.8      2   \n",
       "4   57    0   0       120   354    0        1      163      1      0.6      2   \n",
       "\n",
       "   ca  thal  target  \n",
       "0   0     1       1  \n",
       "1   0     2       1  \n",
       "2   0     2       1  \n",
       "3   0     2       1  \n",
       "4   0     2       1  "
      ]
     },
     "execution_count": 3,
     "metadata": {},
     "output_type": "execute_result"
    }
   ],
   "source": [
    "df.head()\n"
   ]
  },
  {
   "cell_type": "code",
   "execution_count": 4,
   "id": "c7e85855-afe8-4df8-be89-c5477f71da1d",
   "metadata": {},
   "outputs": [
    {
     "data": {
      "text/plain": [
       "target\n",
       "1    165\n",
       "0    138\n",
       "Name: count, dtype: int64"
      ]
     },
     "execution_count": 4,
     "metadata": {},
     "output_type": "execute_result"
    }
   ],
   "source": [
    "df[\"target\"].value_counts()"
   ]
  },
  {
   "cell_type": "code",
   "execution_count": 5,
   "id": "390bf75b-7ad0-4468-bb7b-0a757c5638d4",
   "metadata": {},
   "outputs": [
    {
     "data": {
      "image/png": "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",
      "text/plain": [
       "<Figure size 640x480 with 1 Axes>"
      ]
     },
     "metadata": {},
     "output_type": "display_data"
    }
   ],
   "source": [
    "df[\"target\"].value_counts().plot(kind=\"bar\", color=[\"salmon\",\"lightblue\"]);"
   ]
  },
  {
   "cell_type": "code",
   "execution_count": 6,
   "id": "cbe62431-2c57-4a72-895c-a2bb80e0ffea",
   "metadata": {},
   "outputs": [
    {
     "name": "stdout",
     "output_type": "stream",
     "text": [
      "<class 'pandas.core.frame.DataFrame'>\n",
      "RangeIndex: 303 entries, 0 to 302\n",
      "Data columns (total 14 columns):\n",
      " #   Column    Non-Null Count  Dtype  \n",
      "---  ------    --------------  -----  \n",
      " 0   age       303 non-null    int64  \n",
      " 1   sex       303 non-null    int64  \n",
      " 2   cp        303 non-null    int64  \n",
      " 3   trestbps  303 non-null    int64  \n",
      " 4   chol      303 non-null    int64  \n",
      " 5   fbs       303 non-null    int64  \n",
      " 6   restecg   303 non-null    int64  \n",
      " 7   thalach   303 non-null    int64  \n",
      " 8   exang     303 non-null    int64  \n",
      " 9   oldpeak   303 non-null    float64\n",
      " 10  slope     303 non-null    int64  \n",
      " 11  ca        303 non-null    int64  \n",
      " 12  thal      303 non-null    int64  \n",
      " 13  target    303 non-null    int64  \n",
      "dtypes: float64(1), int64(13)\n",
      "memory usage: 33.3 KB\n"
     ]
    }
   ],
   "source": [
    "df.info()"
   ]
  },
  {
   "cell_type": "code",
   "execution_count": 7,
   "id": "8497acb6-6c59-4a1b-8e4c-a4831619d5b5",
   "metadata": {},
   "outputs": [
    {
     "data": {
      "text/html": [
       "<div>\n",
       "<style scoped>\n",
       "    .dataframe tbody tr th:only-of-type {\n",
       "        vertical-align: middle;\n",
       "    }\n",
       "\n",
       "    .dataframe tbody tr th {\n",
       "        vertical-align: top;\n",
       "    }\n",
       "\n",
       "    .dataframe thead th {\n",
       "        text-align: right;\n",
       "    }\n",
       "</style>\n",
       "<table border=\"1\" class=\"dataframe\">\n",
       "  <thead>\n",
       "    <tr style=\"text-align: right;\">\n",
       "      <th></th>\n",
       "      <th>age</th>\n",
       "      <th>sex</th>\n",
       "      <th>cp</th>\n",
       "      <th>trestbps</th>\n",
       "      <th>chol</th>\n",
       "      <th>fbs</th>\n",
       "      <th>restecg</th>\n",
       "      <th>thalach</th>\n",
       "      <th>exang</th>\n",
       "      <th>oldpeak</th>\n",
       "      <th>slope</th>\n",
       "      <th>ca</th>\n",
       "      <th>thal</th>\n",
       "      <th>target</th>\n",
       "    </tr>\n",
       "  </thead>\n",
       "  <tbody>\n",
       "    <tr>\n",
       "      <th>count</th>\n",
       "      <td>303.000000</td>\n",
       "      <td>303.000000</td>\n",
       "      <td>303.000000</td>\n",
       "      <td>303.000000</td>\n",
       "      <td>303.000000</td>\n",
       "      <td>303.000000</td>\n",
       "      <td>303.000000</td>\n",
       "      <td>303.000000</td>\n",
       "      <td>303.000000</td>\n",
       "      <td>303.000000</td>\n",
       "      <td>303.000000</td>\n",
       "      <td>303.000000</td>\n",
       "      <td>303.000000</td>\n",
       "      <td>303.000000</td>\n",
       "    </tr>\n",
       "    <tr>\n",
       "      <th>mean</th>\n",
       "      <td>54.366337</td>\n",
       "      <td>0.683168</td>\n",
       "      <td>0.966997</td>\n",
       "      <td>131.623762</td>\n",
       "      <td>246.264026</td>\n",
       "      <td>0.148515</td>\n",
       "      <td>0.528053</td>\n",
       "      <td>149.646865</td>\n",
       "      <td>0.326733</td>\n",
       "      <td>1.039604</td>\n",
       "      <td>1.399340</td>\n",
       "      <td>0.729373</td>\n",
       "      <td>2.313531</td>\n",
       "      <td>0.544554</td>\n",
       "    </tr>\n",
       "    <tr>\n",
       "      <th>std</th>\n",
       "      <td>9.082101</td>\n",
       "      <td>0.466011</td>\n",
       "      <td>1.032052</td>\n",
       "      <td>17.538143</td>\n",
       "      <td>51.830751</td>\n",
       "      <td>0.356198</td>\n",
       "      <td>0.525860</td>\n",
       "      <td>22.905161</td>\n",
       "      <td>0.469794</td>\n",
       "      <td>1.161075</td>\n",
       "      <td>0.616226</td>\n",
       "      <td>1.022606</td>\n",
       "      <td>0.612277</td>\n",
       "      <td>0.498835</td>\n",
       "    </tr>\n",
       "    <tr>\n",
       "      <th>min</th>\n",
       "      <td>29.000000</td>\n",
       "      <td>0.000000</td>\n",
       "      <td>0.000000</td>\n",
       "      <td>94.000000</td>\n",
       "      <td>126.000000</td>\n",
       "      <td>0.000000</td>\n",
       "      <td>0.000000</td>\n",
       "      <td>71.000000</td>\n",
       "      <td>0.000000</td>\n",
       "      <td>0.000000</td>\n",
       "      <td>0.000000</td>\n",
       "      <td>0.000000</td>\n",
       "      <td>0.000000</td>\n",
       "      <td>0.000000</td>\n",
       "    </tr>\n",
       "    <tr>\n",
       "      <th>25%</th>\n",
       "      <td>47.500000</td>\n",
       "      <td>0.000000</td>\n",
       "      <td>0.000000</td>\n",
       "      <td>120.000000</td>\n",
       "      <td>211.000000</td>\n",
       "      <td>0.000000</td>\n",
       "      <td>0.000000</td>\n",
       "      <td>133.500000</td>\n",
       "      <td>0.000000</td>\n",
       "      <td>0.000000</td>\n",
       "      <td>1.000000</td>\n",
       "      <td>0.000000</td>\n",
       "      <td>2.000000</td>\n",
       "      <td>0.000000</td>\n",
       "    </tr>\n",
       "    <tr>\n",
       "      <th>50%</th>\n",
       "      <td>55.000000</td>\n",
       "      <td>1.000000</td>\n",
       "      <td>1.000000</td>\n",
       "      <td>130.000000</td>\n",
       "      <td>240.000000</td>\n",
       "      <td>0.000000</td>\n",
       "      <td>1.000000</td>\n",
       "      <td>153.000000</td>\n",
       "      <td>0.000000</td>\n",
       "      <td>0.800000</td>\n",
       "      <td>1.000000</td>\n",
       "      <td>0.000000</td>\n",
       "      <td>2.000000</td>\n",
       "      <td>1.000000</td>\n",
       "    </tr>\n",
       "    <tr>\n",
       "      <th>75%</th>\n",
       "      <td>61.000000</td>\n",
       "      <td>1.000000</td>\n",
       "      <td>2.000000</td>\n",
       "      <td>140.000000</td>\n",
       "      <td>274.500000</td>\n",
       "      <td>0.000000</td>\n",
       "      <td>1.000000</td>\n",
       "      <td>166.000000</td>\n",
       "      <td>1.000000</td>\n",
       "      <td>1.600000</td>\n",
       "      <td>2.000000</td>\n",
       "      <td>1.000000</td>\n",
       "      <td>3.000000</td>\n",
       "      <td>1.000000</td>\n",
       "    </tr>\n",
       "    <tr>\n",
       "      <th>max</th>\n",
       "      <td>77.000000</td>\n",
       "      <td>1.000000</td>\n",
       "      <td>3.000000</td>\n",
       "      <td>200.000000</td>\n",
       "      <td>564.000000</td>\n",
       "      <td>1.000000</td>\n",
       "      <td>2.000000</td>\n",
       "      <td>202.000000</td>\n",
       "      <td>1.000000</td>\n",
       "      <td>6.200000</td>\n",
       "      <td>2.000000</td>\n",
       "      <td>4.000000</td>\n",
       "      <td>3.000000</td>\n",
       "      <td>1.000000</td>\n",
       "    </tr>\n",
       "  </tbody>\n",
       "</table>\n",
       "</div>"
      ],
      "text/plain": [
       "              age         sex          cp    trestbps        chol         fbs  \\\n",
       "count  303.000000  303.000000  303.000000  303.000000  303.000000  303.000000   \n",
       "mean    54.366337    0.683168    0.966997  131.623762  246.264026    0.148515   \n",
       "std      9.082101    0.466011    1.032052   17.538143   51.830751    0.356198   \n",
       "min     29.000000    0.000000    0.000000   94.000000  126.000000    0.000000   \n",
       "25%     47.500000    0.000000    0.000000  120.000000  211.000000    0.000000   \n",
       "50%     55.000000    1.000000    1.000000  130.000000  240.000000    0.000000   \n",
       "75%     61.000000    1.000000    2.000000  140.000000  274.500000    0.000000   \n",
       "max     77.000000    1.000000    3.000000  200.000000  564.000000    1.000000   \n",
       "\n",
       "          restecg     thalach       exang     oldpeak       slope          ca  \\\n",
       "count  303.000000  303.000000  303.000000  303.000000  303.000000  303.000000   \n",
       "mean     0.528053  149.646865    0.326733    1.039604    1.399340    0.729373   \n",
       "std      0.525860   22.905161    0.469794    1.161075    0.616226    1.022606   \n",
       "min      0.000000   71.000000    0.000000    0.000000    0.000000    0.000000   \n",
       "25%      0.000000  133.500000    0.000000    0.000000    1.000000    0.000000   \n",
       "50%      1.000000  153.000000    0.000000    0.800000    1.000000    0.000000   \n",
       "75%      1.000000  166.000000    1.000000    1.600000    2.000000    1.000000   \n",
       "max      2.000000  202.000000    1.000000    6.200000    2.000000    4.000000   \n",
       "\n",
       "             thal      target  \n",
       "count  303.000000  303.000000  \n",
       "mean     2.313531    0.544554  \n",
       "std      0.612277    0.498835  \n",
       "min      0.000000    0.000000  \n",
       "25%      2.000000    0.000000  \n",
       "50%      2.000000    1.000000  \n",
       "75%      3.000000    1.000000  \n",
       "max      3.000000    1.000000  "
      ]
     },
     "execution_count": 7,
     "metadata": {},
     "output_type": "execute_result"
    }
   ],
   "source": [
    "df.describe()"
   ]
  },
  {
   "cell_type": "markdown",
   "id": "680f2d2f-7a42-4834-b312-2529ce2756cf",
   "metadata": {},
   "source": [
    "## Heary Disease Frequency According to Sex"
   ]
  },
  {
   "cell_type": "code",
   "execution_count": 8,
   "id": "c3df80ed-1a87-4290-a274-49f89e87ea9d",
   "metadata": {},
   "outputs": [
    {
     "data": {
      "text/plain": [
       "sex\n",
       "1    207\n",
       "0     96\n",
       "Name: count, dtype: int64"
      ]
     },
     "execution_count": 8,
     "metadata": {},
     "output_type": "execute_result"
    }
   ],
   "source": [
    "# Heary Disease Frequency According to Sex\n",
    "\n",
    "df.sex.value_counts()"
   ]
  },
  {
   "cell_type": "code",
   "execution_count": 9,
   "id": "8aa4706b-d28a-4716-a054-a1b70503d63b",
   "metadata": {},
   "outputs": [
    {
     "data": {
      "text/html": [
       "<div>\n",
       "<style scoped>\n",
       "    .dataframe tbody tr th:only-of-type {\n",
       "        vertical-align: middle;\n",
       "    }\n",
       "\n",
       "    .dataframe tbody tr th {\n",
       "        vertical-align: top;\n",
       "    }\n",
       "\n",
       "    .dataframe thead th {\n",
       "        text-align: right;\n",
       "    }\n",
       "</style>\n",
       "<table border=\"1\" class=\"dataframe\">\n",
       "  <thead>\n",
       "    <tr style=\"text-align: right;\">\n",
       "      <th>sex</th>\n",
       "      <th>0</th>\n",
       "      <th>1</th>\n",
       "    </tr>\n",
       "    <tr>\n",
       "      <th>target</th>\n",
       "      <th></th>\n",
       "      <th></th>\n",
       "    </tr>\n",
       "  </thead>\n",
       "  <tbody>\n",
       "    <tr>\n",
       "      <th>0</th>\n",
       "      <td>24</td>\n",
       "      <td>114</td>\n",
       "    </tr>\n",
       "    <tr>\n",
       "      <th>1</th>\n",
       "      <td>72</td>\n",
       "      <td>93</td>\n",
       "    </tr>\n",
       "  </tbody>\n",
       "</table>\n",
       "</div>"
      ],
      "text/plain": [
       "sex      0    1\n",
       "target         \n",
       "0       24  114\n",
       "1       72   93"
      ]
     },
     "execution_count": 9,
     "metadata": {},
     "output_type": "execute_result"
    }
   ],
   "source": [
    "pd.crosstab(df.target,df.sex)"
   ]
  },
  {
   "cell_type": "code",
   "execution_count": 10,
   "id": "b8731d9e-7469-4612-a7d2-4c74a9b2c938",
   "metadata": {},
   "outputs": [
    {
     "data": {
      "image/png": "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",
      "text/plain": [
       "<Figure size 640x480 with 1 Axes>"
      ]
     },
     "metadata": {},
     "output_type": "display_data"
    }
   ],
   "source": [
    "pd.crosstab(df.target,df.sex).plot(kind=\"bar\",color=[\"salmon\",\"lightblue\"])\n",
    "plt.title(\"Heart Disease Frequency for Sex\")\n",
    "plt.xlabel(\"0- No heart disease         1- heart Disease\")\n",
    "plt.ylabel(\"Amount\")\n",
    "plt.legend([\"Female\",\"Male\"]);"
   ]
  },
  {
   "cell_type": "markdown",
   "id": "fcc410cc-44ad-4f56-b51f-c516ac8edfb6",
   "metadata": {},
   "source": [
    "## Age VS Max Heart Rate for a Disease"
   ]
  },
  {
   "cell_type": "code",
   "execution_count": 11,
   "id": "9d5edac5-2f65-41b3-a979-45efc99ebfdd",
   "metadata": {},
   "outputs": [
    {
     "data": {
      "image/png": "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",
      "text/plain": [
       "<Figure size 1000x500 with 1 Axes>"
      ]
     },
     "metadata": {},
     "output_type": "display_data"
    }
   ],
   "source": [
    "plt.figure(figsize=(10,5))\n",
    "#scatter with positive\n",
    "plt.scatter(df.age[df.target==1],\n",
    "            df.thalach[df.target==1],\n",
    "            color=\"salmon\");\n",
    "#scatter with negative\n",
    "plt.scatter(df.age[df.target==0],\n",
    "            df.thalach[df.target==0],\n",
    "            color=\"lightblue\");\n",
    "plt.title(\"Heart Disease in function of Max heart rate vs age\")\n",
    "plt.xlabel(\"Age\")\n",
    "plt.ylabel(\"Max Heart Rate\")\n",
    "plt.legend([\"HeartDisease\",\"NoHeartDisease\"]);"
   ]
  },
  {
   "cell_type": "code",
   "execution_count": 12,
   "id": "5aa0310d-500f-4f65-82c7-7fe7bfd00425",
   "metadata": {},
   "outputs": [
    {
     "data": {
      "image/png": "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",
      "text/plain": [
       "<Figure size 640x480 with 1 Axes>"
      ]
     },
     "metadata": {},
     "output_type": "display_data"
    }
   ],
   "source": [
    "df.age.plot.hist();"
   ]
  },
  {
   "cell_type": "markdown",
   "id": "7afa5445-cc9d-47b6-8fa7-5f09c9f8a553",
   "metadata": {},
   "source": [
    "## Heart Disease Frquency per chest Pain Type\n",
    "\n",
    "* 0: Typical angina: chest pain related decrease blood supply to the heart\n",
    "* 1: Atypical angina: chest pain not related to heart\n",
    "* 2: Non-anginal pain: typically esophageal spasms (non heart related)\n",
    "* 3: Asymptomatic: chest pain not showing signs of diseas"
   ]
  },
  {
   "cell_type": "code",
   "execution_count": 13,
   "id": "82510383-26e4-4c81-a03c-21c18f360a6a",
   "metadata": {},
   "outputs": [
    {
     "data": {
      "text/html": [
       "<div>\n",
       "<style scoped>\n",
       "    .dataframe tbody tr th:only-of-type {\n",
       "        vertical-align: middle;\n",
       "    }\n",
       "\n",
       "    .dataframe tbody tr th {\n",
       "        vertical-align: top;\n",
       "    }\n",
       "\n",
       "    .dataframe thead th {\n",
       "        text-align: right;\n",
       "    }\n",
       "</style>\n",
       "<table border=\"1\" class=\"dataframe\">\n",
       "  <thead>\n",
       "    <tr style=\"text-align: right;\">\n",
       "      <th>target</th>\n",
       "      <th>0</th>\n",
       "      <th>1</th>\n",
       "    </tr>\n",
       "    <tr>\n",
       "      <th>cp</th>\n",
       "      <th></th>\n",
       "      <th></th>\n",
       "    </tr>\n",
       "  </thead>\n",
       "  <tbody>\n",
       "    <tr>\n",
       "      <th>0</th>\n",
       "      <td>104</td>\n",
       "      <td>39</td>\n",
       "    </tr>\n",
       "    <tr>\n",
       "      <th>1</th>\n",
       "      <td>9</td>\n",
       "      <td>41</td>\n",
       "    </tr>\n",
       "    <tr>\n",
       "      <th>2</th>\n",
       "      <td>18</td>\n",
       "      <td>69</td>\n",
       "    </tr>\n",
       "    <tr>\n",
       "      <th>3</th>\n",
       "      <td>7</td>\n",
       "      <td>16</td>\n",
       "    </tr>\n",
       "  </tbody>\n",
       "</table>\n",
       "</div>"
      ],
      "text/plain": [
       "target    0   1\n",
       "cp             \n",
       "0       104  39\n",
       "1         9  41\n",
       "2        18  69\n",
       "3         7  16"
      ]
     },
     "execution_count": 13,
     "metadata": {},
     "output_type": "execute_result"
    }
   ],
   "source": [
    "pd.crosstab(df.cp,df.target)"
   ]
  },
  {
   "cell_type": "code",
   "execution_count": 14,
   "id": "50ef3cd6-61fa-429b-949c-17d6b8775147",
   "metadata": {},
   "outputs": [
    {
     "data": {
      "image/png": "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",
      "text/plain": [
       "<Figure size 640x480 with 1 Axes>"
      ]
     },
     "metadata": {},
     "output_type": "display_data"
    }
   ],
   "source": [
    "pd.crosstab(df.cp,df.target).plot(kind=\"bar\",color=[\"salmon\",\"lightblue\"])\n",
    "\n",
    "plt.title(\"Heart Disease Frequency per chest pain\")\n",
    "plt.xlabel(\"chest pain type\")\n",
    "plt.ylabel(\"Frequency\")\n",
    "plt.legend([\"No Disease\",\"Disease\"]);"
   ]
  },
  {
   "cell_type": "code",
   "execution_count": 15,
   "id": "8609a588-3844-48e1-9690-6a71da2645b1",
   "metadata": {},
   "outputs": [
    {
     "data": {
      "text/html": [
       "<div>\n",
       "<style scoped>\n",
       "    .dataframe tbody tr th:only-of-type {\n",
       "        vertical-align: middle;\n",
       "    }\n",
       "\n",
       "    .dataframe tbody tr th {\n",
       "        vertical-align: top;\n",
       "    }\n",
       "\n",
       "    .dataframe thead th {\n",
       "        text-align: right;\n",
       "    }\n",
       "</style>\n",
       "<table border=\"1\" class=\"dataframe\">\n",
       "  <thead>\n",
       "    <tr style=\"text-align: right;\">\n",
       "      <th></th>\n",
       "      <th>age</th>\n",
       "      <th>sex</th>\n",
       "      <th>cp</th>\n",
       "      <th>trestbps</th>\n",
       "      <th>chol</th>\n",
       "      <th>fbs</th>\n",
       "      <th>restecg</th>\n",
       "      <th>thalach</th>\n",
       "      <th>exang</th>\n",
       "      <th>oldpeak</th>\n",
       "      <th>slope</th>\n",
       "      <th>ca</th>\n",
       "      <th>thal</th>\n",
       "      <th>target</th>\n",
       "    </tr>\n",
       "  </thead>\n",
       "  <tbody>\n",
       "    <tr>\n",
       "      <th>0</th>\n",
       "      <td>63</td>\n",
       "      <td>1</td>\n",
       "      <td>3</td>\n",
       "      <td>145</td>\n",
       "      <td>233</td>\n",
       "      <td>1</td>\n",
       "      <td>0</td>\n",
       "      <td>150</td>\n",
       "      <td>0</td>\n",
       "      <td>2.3</td>\n",
       "      <td>0</td>\n",
       "      <td>0</td>\n",
       "      <td>1</td>\n",
       "      <td>1</td>\n",
       "    </tr>\n",
       "    <tr>\n",
       "      <th>1</th>\n",
       "      <td>37</td>\n",
       "      <td>1</td>\n",
       "      <td>2</td>\n",
       "      <td>130</td>\n",
       "      <td>250</td>\n",
       "      <td>0</td>\n",
       "      <td>1</td>\n",
       "      <td>187</td>\n",
       "      <td>0</td>\n",
       "      <td>3.5</td>\n",
       "      <td>0</td>\n",
       "      <td>0</td>\n",
       "      <td>2</td>\n",
       "      <td>1</td>\n",
       "    </tr>\n",
       "    <tr>\n",
       "      <th>2</th>\n",
       "      <td>41</td>\n",
       "      <td>0</td>\n",
       "      <td>1</td>\n",
       "      <td>130</td>\n",
       "      <td>204</td>\n",
       "      <td>0</td>\n",
       "      <td>0</td>\n",
       "      <td>172</td>\n",
       "      <td>0</td>\n",
       "      <td>1.4</td>\n",
       "      <td>2</td>\n",
       "      <td>0</td>\n",
       "      <td>2</td>\n",
       "      <td>1</td>\n",
       "    </tr>\n",
       "    <tr>\n",
       "      <th>3</th>\n",
       "      <td>56</td>\n",
       "      <td>1</td>\n",
       "      <td>1</td>\n",
       "      <td>120</td>\n",
       "      <td>236</td>\n",
       "      <td>0</td>\n",
       "      <td>1</td>\n",
       "      <td>178</td>\n",
       "      <td>0</td>\n",
       "      <td>0.8</td>\n",
       "      <td>2</td>\n",
       "      <td>0</td>\n",
       "      <td>2</td>\n",
       "      <td>1</td>\n",
       "    </tr>\n",
       "    <tr>\n",
       "      <th>4</th>\n",
       "      <td>57</td>\n",
       "      <td>0</td>\n",
       "      <td>0</td>\n",
       "      <td>120</td>\n",
       "      <td>354</td>\n",
       "      <td>0</td>\n",
       "      <td>1</td>\n",
       "      <td>163</td>\n",
       "      <td>1</td>\n",
       "      <td>0.6</td>\n",
       "      <td>2</td>\n",
       "      <td>0</td>\n",
       "      <td>2</td>\n",
       "      <td>1</td>\n",
       "    </tr>\n",
       "  </tbody>\n",
       "</table>\n",
       "</div>"
      ],
      "text/plain": [
       "   age  sex  cp  trestbps  chol  fbs  restecg  thalach  exang  oldpeak  slope  \\\n",
       "0   63    1   3       145   233    1        0      150      0      2.3      0   \n",
       "1   37    1   2       130   250    0        1      187      0      3.5      0   \n",
       "2   41    0   1       130   204    0        0      172      0      1.4      2   \n",
       "3   56    1   1       120   236    0        1      178      0      0.8      2   \n",
       "4   57    0   0       120   354    0        1      163      1      0.6      2   \n",
       "\n",
       "   ca  thal  target  \n",
       "0   0     1       1  \n",
       "1   0     2       1  \n",
       "2   0     2       1  \n",
       "3   0     2       1  \n",
       "4   0     2       1  "
      ]
     },
     "execution_count": 15,
     "metadata": {},
     "output_type": "execute_result"
    }
   ],
   "source": [
    "df.head()"
   ]
  },
  {
   "cell_type": "code",
   "execution_count": 16,
   "id": "47ae1a4d-262e-436a-8f16-c9d351568000",
   "metadata": {},
   "outputs": [],
   "source": [
    "corr_matrix=df.corr()"
   ]
  },
  {
   "cell_type": "code",
   "execution_count": 17,
   "id": "a289bc49-1a26-4745-a3db-4daa2ee3ce24",
   "metadata": {},
   "outputs": [
    {
     "data": {
      "text/html": [
       "<div>\n",
       "<style scoped>\n",
       "    .dataframe tbody tr th:only-of-type {\n",
       "        vertical-align: middle;\n",
       "    }\n",
       "\n",
       "    .dataframe tbody tr th {\n",
       "        vertical-align: top;\n",
       "    }\n",
       "\n",
       "    .dataframe thead th {\n",
       "        text-align: right;\n",
       "    }\n",
       "</style>\n",
       "<table border=\"1\" class=\"dataframe\">\n",
       "  <thead>\n",
       "    <tr style=\"text-align: right;\">\n",
       "      <th></th>\n",
       "      <th>age</th>\n",
       "      <th>sex</th>\n",
       "      <th>cp</th>\n",
       "      <th>trestbps</th>\n",
       "      <th>chol</th>\n",
       "      <th>fbs</th>\n",
       "      <th>restecg</th>\n",
       "      <th>thalach</th>\n",
       "      <th>exang</th>\n",
       "      <th>oldpeak</th>\n",
       "      <th>slope</th>\n",
       "      <th>ca</th>\n",
       "      <th>thal</th>\n",
       "      <th>target</th>\n",
       "    </tr>\n",
       "  </thead>\n",
       "  <tbody>\n",
       "    <tr>\n",
       "      <th>age</th>\n",
       "      <td>1.000000</td>\n",
       "      <td>-0.098447</td>\n",
       "      <td>-0.068653</td>\n",
       "      <td>0.279351</td>\n",
       "      <td>0.213678</td>\n",
       "      <td>0.121308</td>\n",
       "      <td>-0.116211</td>\n",
       "      <td>-0.398522</td>\n",
       "      <td>0.096801</td>\n",
       "      <td>0.210013</td>\n",
       "      <td>-0.168814</td>\n",
       "      <td>0.276326</td>\n",
       "      <td>0.068001</td>\n",
       "      <td>-0.225439</td>\n",
       "    </tr>\n",
       "    <tr>\n",
       "      <th>sex</th>\n",
       "      <td>-0.098447</td>\n",
       "      <td>1.000000</td>\n",
       "      <td>-0.049353</td>\n",
       "      <td>-0.056769</td>\n",
       "      <td>-0.197912</td>\n",
       "      <td>0.045032</td>\n",
       "      <td>-0.058196</td>\n",
       "      <td>-0.044020</td>\n",
       "      <td>0.141664</td>\n",
       "      <td>0.096093</td>\n",
       "      <td>-0.030711</td>\n",
       "      <td>0.118261</td>\n",
       "      <td>0.210041</td>\n",
       "      <td>-0.280937</td>\n",
       "    </tr>\n",
       "    <tr>\n",
       "      <th>cp</th>\n",
       "      <td>-0.068653</td>\n",
       "      <td>-0.049353</td>\n",
       "      <td>1.000000</td>\n",
       "      <td>0.047608</td>\n",
       "      <td>-0.076904</td>\n",
       "      <td>0.094444</td>\n",
       "      <td>0.044421</td>\n",
       "      <td>0.295762</td>\n",
       "      <td>-0.394280</td>\n",
       "      <td>-0.149230</td>\n",
       "      <td>0.119717</td>\n",
       "      <td>-0.181053</td>\n",
       "      <td>-0.161736</td>\n",
       "      <td>0.433798</td>\n",
       "    </tr>\n",
       "    <tr>\n",
       "      <th>trestbps</th>\n",
       "      <td>0.279351</td>\n",
       "      <td>-0.056769</td>\n",
       "      <td>0.047608</td>\n",
       "      <td>1.000000</td>\n",
       "      <td>0.123174</td>\n",
       "      <td>0.177531</td>\n",
       "      <td>-0.114103</td>\n",
       "      <td>-0.046698</td>\n",
       "      <td>0.067616</td>\n",
       "      <td>0.193216</td>\n",
       "      <td>-0.121475</td>\n",
       "      <td>0.101389</td>\n",
       "      <td>0.062210</td>\n",
       "      <td>-0.144931</td>\n",
       "    </tr>\n",
       "    <tr>\n",
       "      <th>chol</th>\n",
       "      <td>0.213678</td>\n",
       "      <td>-0.197912</td>\n",
       "      <td>-0.076904</td>\n",
       "      <td>0.123174</td>\n",
       "      <td>1.000000</td>\n",
       "      <td>0.013294</td>\n",
       "      <td>-0.151040</td>\n",
       "      <td>-0.009940</td>\n",
       "      <td>0.067023</td>\n",
       "      <td>0.053952</td>\n",
       "      <td>-0.004038</td>\n",
       "      <td>0.070511</td>\n",
       "      <td>0.098803</td>\n",
       "      <td>-0.085239</td>\n",
       "    </tr>\n",
       "    <tr>\n",
       "      <th>fbs</th>\n",
       "      <td>0.121308</td>\n",
       "      <td>0.045032</td>\n",
       "      <td>0.094444</td>\n",
       "      <td>0.177531</td>\n",
       "      <td>0.013294</td>\n",
       "      <td>1.000000</td>\n",
       "      <td>-0.084189</td>\n",
       "      <td>-0.008567</td>\n",
       "      <td>0.025665</td>\n",
       "      <td>0.005747</td>\n",
       "      <td>-0.059894</td>\n",
       "      <td>0.137979</td>\n",
       "      <td>-0.032019</td>\n",
       "      <td>-0.028046</td>\n",
       "    </tr>\n",
       "    <tr>\n",
       "      <th>restecg</th>\n",
       "      <td>-0.116211</td>\n",
       "      <td>-0.058196</td>\n",
       "      <td>0.044421</td>\n",
       "      <td>-0.114103</td>\n",
       "      <td>-0.151040</td>\n",
       "      <td>-0.084189</td>\n",
       "      <td>1.000000</td>\n",
       "      <td>0.044123</td>\n",
       "      <td>-0.070733</td>\n",
       "      <td>-0.058770</td>\n",
       "      <td>0.093045</td>\n",
       "      <td>-0.072042</td>\n",
       "      <td>-0.011981</td>\n",
       "      <td>0.137230</td>\n",
       "    </tr>\n",
       "    <tr>\n",
       "      <th>thalach</th>\n",
       "      <td>-0.398522</td>\n",
       "      <td>-0.044020</td>\n",
       "      <td>0.295762</td>\n",
       "      <td>-0.046698</td>\n",
       "      <td>-0.009940</td>\n",
       "      <td>-0.008567</td>\n",
       "      <td>0.044123</td>\n",
       "      <td>1.000000</td>\n",
       "      <td>-0.378812</td>\n",
       "      <td>-0.344187</td>\n",
       "      <td>0.386784</td>\n",
       "      <td>-0.213177</td>\n",
       "      <td>-0.096439</td>\n",
       "      <td>0.421741</td>\n",
       "    </tr>\n",
       "    <tr>\n",
       "      <th>exang</th>\n",
       "      <td>0.096801</td>\n",
       "      <td>0.141664</td>\n",
       "      <td>-0.394280</td>\n",
       "      <td>0.067616</td>\n",
       "      <td>0.067023</td>\n",
       "      <td>0.025665</td>\n",
       "      <td>-0.070733</td>\n",
       "      <td>-0.378812</td>\n",
       "      <td>1.000000</td>\n",
       "      <td>0.288223</td>\n",
       "      <td>-0.257748</td>\n",
       "      <td>0.115739</td>\n",
       "      <td>0.206754</td>\n",
       "      <td>-0.436757</td>\n",
       "    </tr>\n",
       "    <tr>\n",
       "      <th>oldpeak</th>\n",
       "      <td>0.210013</td>\n",
       "      <td>0.096093</td>\n",
       "      <td>-0.149230</td>\n",
       "      <td>0.193216</td>\n",
       "      <td>0.053952</td>\n",
       "      <td>0.005747</td>\n",
       "      <td>-0.058770</td>\n",
       "      <td>-0.344187</td>\n",
       "      <td>0.288223</td>\n",
       "      <td>1.000000</td>\n",
       "      <td>-0.577537</td>\n",
       "      <td>0.222682</td>\n",
       "      <td>0.210244</td>\n",
       "      <td>-0.430696</td>\n",
       "    </tr>\n",
       "    <tr>\n",
       "      <th>slope</th>\n",
       "      <td>-0.168814</td>\n",
       "      <td>-0.030711</td>\n",
       "      <td>0.119717</td>\n",
       "      <td>-0.121475</td>\n",
       "      <td>-0.004038</td>\n",
       "      <td>-0.059894</td>\n",
       "      <td>0.093045</td>\n",
       "      <td>0.386784</td>\n",
       "      <td>-0.257748</td>\n",
       "      <td>-0.577537</td>\n",
       "      <td>1.000000</td>\n",
       "      <td>-0.080155</td>\n",
       "      <td>-0.104764</td>\n",
       "      <td>0.345877</td>\n",
       "    </tr>\n",
       "    <tr>\n",
       "      <th>ca</th>\n",
       "      <td>0.276326</td>\n",
       "      <td>0.118261</td>\n",
       "      <td>-0.181053</td>\n",
       "      <td>0.101389</td>\n",
       "      <td>0.070511</td>\n",
       "      <td>0.137979</td>\n",
       "      <td>-0.072042</td>\n",
       "      <td>-0.213177</td>\n",
       "      <td>0.115739</td>\n",
       "      <td>0.222682</td>\n",
       "      <td>-0.080155</td>\n",
       "      <td>1.000000</td>\n",
       "      <td>0.151832</td>\n",
       "      <td>-0.391724</td>\n",
       "    </tr>\n",
       "    <tr>\n",
       "      <th>thal</th>\n",
       "      <td>0.068001</td>\n",
       "      <td>0.210041</td>\n",
       "      <td>-0.161736</td>\n",
       "      <td>0.062210</td>\n",
       "      <td>0.098803</td>\n",
       "      <td>-0.032019</td>\n",
       "      <td>-0.011981</td>\n",
       "      <td>-0.096439</td>\n",
       "      <td>0.206754</td>\n",
       "      <td>0.210244</td>\n",
       "      <td>-0.104764</td>\n",
       "      <td>0.151832</td>\n",
       "      <td>1.000000</td>\n",
       "      <td>-0.344029</td>\n",
       "    </tr>\n",
       "    <tr>\n",
       "      <th>target</th>\n",
       "      <td>-0.225439</td>\n",
       "      <td>-0.280937</td>\n",
       "      <td>0.433798</td>\n",
       "      <td>-0.144931</td>\n",
       "      <td>-0.085239</td>\n",
       "      <td>-0.028046</td>\n",
       "      <td>0.137230</td>\n",
       "      <td>0.421741</td>\n",
       "      <td>-0.436757</td>\n",
       "      <td>-0.430696</td>\n",
       "      <td>0.345877</td>\n",
       "      <td>-0.391724</td>\n",
       "      <td>-0.344029</td>\n",
       "      <td>1.000000</td>\n",
       "    </tr>\n",
       "  </tbody>\n",
       "</table>\n",
       "</div>"
      ],
      "text/plain": [
       "               age       sex        cp  trestbps      chol       fbs  \\\n",
       "age       1.000000 -0.098447 -0.068653  0.279351  0.213678  0.121308   \n",
       "sex      -0.098447  1.000000 -0.049353 -0.056769 -0.197912  0.045032   \n",
       "cp       -0.068653 -0.049353  1.000000  0.047608 -0.076904  0.094444   \n",
       "trestbps  0.279351 -0.056769  0.047608  1.000000  0.123174  0.177531   \n",
       "chol      0.213678 -0.197912 -0.076904  0.123174  1.000000  0.013294   \n",
       "fbs       0.121308  0.045032  0.094444  0.177531  0.013294  1.000000   \n",
       "restecg  -0.116211 -0.058196  0.044421 -0.114103 -0.151040 -0.084189   \n",
       "thalach  -0.398522 -0.044020  0.295762 -0.046698 -0.009940 -0.008567   \n",
       "exang     0.096801  0.141664 -0.394280  0.067616  0.067023  0.025665   \n",
       "oldpeak   0.210013  0.096093 -0.149230  0.193216  0.053952  0.005747   \n",
       "slope    -0.168814 -0.030711  0.119717 -0.121475 -0.004038 -0.059894   \n",
       "ca        0.276326  0.118261 -0.181053  0.101389  0.070511  0.137979   \n",
       "thal      0.068001  0.210041 -0.161736  0.062210  0.098803 -0.032019   \n",
       "target   -0.225439 -0.280937  0.433798 -0.144931 -0.085239 -0.028046   \n",
       "\n",
       "           restecg   thalach     exang   oldpeak     slope        ca  \\\n",
       "age      -0.116211 -0.398522  0.096801  0.210013 -0.168814  0.276326   \n",
       "sex      -0.058196 -0.044020  0.141664  0.096093 -0.030711  0.118261   \n",
       "cp        0.044421  0.295762 -0.394280 -0.149230  0.119717 -0.181053   \n",
       "trestbps -0.114103 -0.046698  0.067616  0.193216 -0.121475  0.101389   \n",
       "chol     -0.151040 -0.009940  0.067023  0.053952 -0.004038  0.070511   \n",
       "fbs      -0.084189 -0.008567  0.025665  0.005747 -0.059894  0.137979   \n",
       "restecg   1.000000  0.044123 -0.070733 -0.058770  0.093045 -0.072042   \n",
       "thalach   0.044123  1.000000 -0.378812 -0.344187  0.386784 -0.213177   \n",
       "exang    -0.070733 -0.378812  1.000000  0.288223 -0.257748  0.115739   \n",
       "oldpeak  -0.058770 -0.344187  0.288223  1.000000 -0.577537  0.222682   \n",
       "slope     0.093045  0.386784 -0.257748 -0.577537  1.000000 -0.080155   \n",
       "ca       -0.072042 -0.213177  0.115739  0.222682 -0.080155  1.000000   \n",
       "thal     -0.011981 -0.096439  0.206754  0.210244 -0.104764  0.151832   \n",
       "target    0.137230  0.421741 -0.436757 -0.430696  0.345877 -0.391724   \n",
       "\n",
       "              thal    target  \n",
       "age       0.068001 -0.225439  \n",
       "sex       0.210041 -0.280937  \n",
       "cp       -0.161736  0.433798  \n",
       "trestbps  0.062210 -0.144931  \n",
       "chol      0.098803 -0.085239  \n",
       "fbs      -0.032019 -0.028046  \n",
       "restecg  -0.011981  0.137230  \n",
       "thalach  -0.096439  0.421741  \n",
       "exang     0.206754 -0.436757  \n",
       "oldpeak   0.210244 -0.430696  \n",
       "slope    -0.104764  0.345877  \n",
       "ca        0.151832 -0.391724  \n",
       "thal      1.000000 -0.344029  \n",
       "target   -0.344029  1.000000  "
      ]
     },
     "execution_count": 17,
     "metadata": {},
     "output_type": "execute_result"
    }
   ],
   "source": [
    "corr_matrix"
   ]
  },
  {
   "cell_type": "code",
   "execution_count": 18,
   "id": "e0dd6be6-7fb9-4fe2-a79e-b0f6155d6ff5",
   "metadata": {},
   "outputs": [
    {
     "data": {
      "image/png": "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",
      "text/plain": [
       "<Figure size 1000x500 with 2 Axes>"
      ]
     },
     "metadata": {},
     "output_type": "display_data"
    }
   ],
   "source": [
    "fig,ax=plt.subplots(figsize=(10,5))\n",
    "ax=sns.heatmap(corr_matrix,\n",
    "               annot=True,\n",
    "               linewidths=0.5,\n",
    "               fmt=\".2f\",\n",
    "               cmap=\"YlGnBu\")"
   ]
  },
  {
   "cell_type": "code",
   "execution_count": 19,
   "id": "214c9ed7-a368-45c0-8089-9e02cfee10ce",
   "metadata": {},
   "outputs": [
    {
     "data": {
      "text/html": [
       "<div>\n",
       "<style scoped>\n",
       "    .dataframe tbody tr th:only-of-type {\n",
       "        vertical-align: middle;\n",
       "    }\n",
       "\n",
       "    .dataframe tbody tr th {\n",
       "        vertical-align: top;\n",
       "    }\n",
       "\n",
       "    .dataframe thead th {\n",
       "        text-align: right;\n",
       "    }\n",
       "</style>\n",
       "<table border=\"1\" class=\"dataframe\">\n",
       "  <thead>\n",
       "    <tr style=\"text-align: right;\">\n",
       "      <th></th>\n",
       "      <th>age</th>\n",
       "      <th>sex</th>\n",
       "      <th>cp</th>\n",
       "      <th>trestbps</th>\n",
       "      <th>chol</th>\n",
       "      <th>fbs</th>\n",
       "      <th>restecg</th>\n",
       "      <th>thalach</th>\n",
       "      <th>exang</th>\n",
       "      <th>oldpeak</th>\n",
       "      <th>slope</th>\n",
       "      <th>ca</th>\n",
       "      <th>thal</th>\n",
       "      <th>target</th>\n",
       "    </tr>\n",
       "  </thead>\n",
       "  <tbody>\n",
       "    <tr>\n",
       "      <th>0</th>\n",
       "      <td>63</td>\n",
       "      <td>1</td>\n",
       "      <td>3</td>\n",
       "      <td>145</td>\n",
       "      <td>233</td>\n",
       "      <td>1</td>\n",
       "      <td>0</td>\n",
       "      <td>150</td>\n",
       "      <td>0</td>\n",
       "      <td>2.3</td>\n",
       "      <td>0</td>\n",
       "      <td>0</td>\n",
       "      <td>1</td>\n",
       "      <td>1</td>\n",
       "    </tr>\n",
       "    <tr>\n",
       "      <th>1</th>\n",
       "      <td>37</td>\n",
       "      <td>1</td>\n",
       "      <td>2</td>\n",
       "      <td>130</td>\n",
       "      <td>250</td>\n",
       "      <td>0</td>\n",
       "      <td>1</td>\n",
       "      <td>187</td>\n",
       "      <td>0</td>\n",
       "      <td>3.5</td>\n",
       "      <td>0</td>\n",
       "      <td>0</td>\n",
       "      <td>2</td>\n",
       "      <td>1</td>\n",
       "    </tr>\n",
       "    <tr>\n",
       "      <th>2</th>\n",
       "      <td>41</td>\n",
       "      <td>0</td>\n",
       "      <td>1</td>\n",
       "      <td>130</td>\n",
       "      <td>204</td>\n",
       "      <td>0</td>\n",
       "      <td>0</td>\n",
       "      <td>172</td>\n",
       "      <td>0</td>\n",
       "      <td>1.4</td>\n",
       "      <td>2</td>\n",
       "      <td>0</td>\n",
       "      <td>2</td>\n",
       "      <td>1</td>\n",
       "    </tr>\n",
       "    <tr>\n",
       "      <th>3</th>\n",
       "      <td>56</td>\n",
       "      <td>1</td>\n",
       "      <td>1</td>\n",
       "      <td>120</td>\n",
       "      <td>236</td>\n",
       "      <td>0</td>\n",
       "      <td>1</td>\n",
       "      <td>178</td>\n",
       "      <td>0</td>\n",
       "      <td>0.8</td>\n",
       "      <td>2</td>\n",
       "      <td>0</td>\n",
       "      <td>2</td>\n",
       "      <td>1</td>\n",
       "    </tr>\n",
       "    <tr>\n",
       "      <th>4</th>\n",
       "      <td>57</td>\n",
       "      <td>0</td>\n",
       "      <td>0</td>\n",
       "      <td>120</td>\n",
       "      <td>354</td>\n",
       "      <td>0</td>\n",
       "      <td>1</td>\n",
       "      <td>163</td>\n",
       "      <td>1</td>\n",
       "      <td>0.6</td>\n",
       "      <td>2</td>\n",
       "      <td>0</td>\n",
       "      <td>2</td>\n",
       "      <td>1</td>\n",
       "    </tr>\n",
       "  </tbody>\n",
       "</table>\n",
       "</div>"
      ],
      "text/plain": [
       "   age  sex  cp  trestbps  chol  fbs  restecg  thalach  exang  oldpeak  slope  \\\n",
       "0   63    1   3       145   233    1        0      150      0      2.3      0   \n",
       "1   37    1   2       130   250    0        1      187      0      3.5      0   \n",
       "2   41    0   1       130   204    0        0      172      0      1.4      2   \n",
       "3   56    1   1       120   236    0        1      178      0      0.8      2   \n",
       "4   57    0   0       120   354    0        1      163      1      0.6      2   \n",
       "\n",
       "   ca  thal  target  \n",
       "0   0     1       1  \n",
       "1   0     2       1  \n",
       "2   0     2       1  \n",
       "3   0     2       1  \n",
       "4   0     2       1  "
      ]
     },
     "execution_count": 19,
     "metadata": {},
     "output_type": "execute_result"
    }
   ],
   "source": [
    "df.head()"
   ]
  },
  {
   "cell_type": "code",
   "execution_count": 20,
   "id": "dc6d0961-2913-4952-bbec-c8148e301c89",
   "metadata": {},
   "outputs": [],
   "source": [
    "x=df.drop(\"target\",axis=1)\n",
    "y=df[\"target\"]"
   ]
  },
  {
   "cell_type": "code",
   "execution_count": 21,
   "id": "8fbfdc82-1b96-48ea-9805-b10bfec185c3",
   "metadata": {},
   "outputs": [
    {
     "data": {
      "text/plain": [
       "0      1\n",
       "1      1\n",
       "2      1\n",
       "3      1\n",
       "4      1\n",
       "      ..\n",
       "298    0\n",
       "299    0\n",
       "300    0\n",
       "301    0\n",
       "302    0\n",
       "Name: target, Length: 303, dtype: int64"
      ]
     },
     "execution_count": 21,
     "metadata": {},
     "output_type": "execute_result"
    }
   ],
   "source": [
    "y\n"
   ]
  },
  {
   "cell_type": "code",
   "execution_count": 22,
   "id": "889070a8-8739-4d6e-8789-55ee3b1d284e",
   "metadata": {},
   "outputs": [],
   "source": [
    "np.random.seed(7)\n",
    "x_train,x_test,y_train,y_test=train_test_split(x,y,test_size=0.2)\n"
   ]
  },
  {
   "cell_type": "markdown",
   "id": "a9b47493-27b6-4364-bdf0-cd96c2c6902b",
   "metadata": {},
   "source": [
    "Now we will build our model\n",
    "\n",
    "We will find pattern on trainig data and use it in testing \n",
    "we will try 3 models\n",
    "1. Logistic Regression\n",
    "2. RandomForest Classifier\n",
    "3. KNN Classifier "
   ]
  },
  {
   "cell_type": "code",
   "execution_count": 23,
   "id": "5deaae2e-4acf-4faa-9777-092ff13a6ca5",
   "metadata": {},
   "outputs": [],
   "source": [
    "models={\"Logistic Regression\":LogisticRegression(),\n",
    "        \"KNN Classifier\":KNeighborsClassifier(),\n",
    "        \"RandomForest Classifer\":RandomForestClassifier()}\n",
    "def fit_and_score(models,x_train,x_test,y_train,y_test):\n",
    "    np.random.seed(45)\n",
    "    model_scores={}\n",
    "    for name,model in models.items():\n",
    "        model.fit(x_train,y_train)\n",
    "        model_scores[name]=model.score(x_test,y_test)\n",
    "    return model_scores    \n",
    "        "
   ]
  },
  {
   "cell_type": "code",
   "execution_count": 24,
   "id": "0ae16e87-ff2c-499c-8aff-db9f1578768f",
   "metadata": {},
   "outputs": [
    {
     "name": "stderr",
     "output_type": "stream",
     "text": [
      "/Users/prajaktakapoor/Desktop/ml/heart-disease-project/env/lib/python3.11/site-packages/sklearn/linear_model/_logistic.py:460: ConvergenceWarning: lbfgs failed to converge (status=1):\n",
      "STOP: TOTAL NO. of ITERATIONS REACHED LIMIT.\n",
      "\n",
      "Increase the number of iterations (max_iter) or scale the data as shown in:\n",
      "    https://scikit-learn.org/stable/modules/preprocessing.html\n",
      "Please also refer to the documentation for alternative solver options:\n",
      "    https://scikit-learn.org/stable/modules/linear_model.html#logistic-regression\n",
      "  n_iter_i = _check_optimize_result(\n"
     ]
    },
    {
     "data": {
      "text/plain": [
       "{'Logistic Regression': 0.7540983606557377,\n",
       " 'KNN Classifier': 0.5573770491803278,\n",
       " 'RandomForest Classifer': 0.7377049180327869}"
      ]
     },
     "execution_count": 24,
     "metadata": {},
     "output_type": "execute_result"
    }
   ],
   "source": [
    "model_scores=fit_and_score(models,x_train,x_test,y_train,y_test)\n",
    "model_scores"
   ]
  },
  {
   "cell_type": "markdown",
   "id": "18f783ef-7188-4882-be97-651349f2f0f6",
   "metadata": {},
   "source": [
    "## Model comparison "
   ]
  },
  {
   "cell_type": "code",
   "execution_count": 25,
   "id": "b286840c-c9ef-4625-8ad8-0cae108f74ae",
   "metadata": {},
   "outputs": [
    {
     "data": {
      "text/plain": [
       "<Axes: >"
      ]
     },
     "execution_count": 25,
     "metadata": {},
     "output_type": "execute_result"
    },
    {
     "data": {
      "image/png": "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",
      "text/plain": [
       "<Figure size 640x480 with 1 Axes>"
      ]
     },
     "metadata": {},
     "output_type": "display_data"
    }
   ],
   "source": [
    "model_compare=pd.DataFrame(model_scores,index=[\"accuracy\"])\n",
    "model_compare.T.plot.bar(color='g')"
   ]
  },
  {
   "cell_type": "markdown",
   "id": "a2be0648-b6df-443f-a4c2-8f31cb1305e3",
   "metadata": {},
   "source": [
    "Now we've got a baseline model... and we know a model's first predictions aren't always what we should based our next steps off. What should we do?\n",
    "\n",
    "Let's look at the following:\n",
    "\n",
    "* Hypyterparameter tuning\n",
    "* Feature importance\n",
    "* Confusion matrix\n",
    "* Confusion matrix\n",
    "* Cross-validation\n",
    "* Precision\n",
    "* Recall\n",
    "* F1 score\n",
    "* Classification report\n",
    "* ROC curve\n",
    "* Area under the curve (AUC)\n",
    "\n",
    "## HyperParameter Tuning"
   ]
  },
  {
   "cell_type": "code",
   "execution_count": 26,
   "id": "95cd08cc-2ee4-43a8-9b07-44017b97f9b9",
   "metadata": {},
   "outputs": [],
   "source": [
    "train_scores=[]\n",
    "test_scores=[]\n",
    "\n",
    "neighbors=range(1,21)\n",
    "\n",
    "knn=KNeighborsClassifier()\n",
    "\n",
    "for i in neighbors:\n",
    "    knn.set_params(n_neighbors=i)\n",
    "    knn.fit(x_train,y_train)\n",
    "    train_scores.append(knn.score(x_train,y_train))\n",
    "    test_scores.append(knn.score(x_test,y_test))"
   ]
  },
  {
   "cell_type": "code",
   "execution_count": 27,
   "id": "ecf95f9b-7137-4621-8aec-01c59269cb5f",
   "metadata": {},
   "outputs": [
    {
     "data": {
      "text/plain": [
       "[1.0,\n",
       " 0.8099173553719008,\n",
       " 0.7768595041322314,\n",
       " 0.756198347107438,\n",
       " 0.7603305785123967,\n",
       " 0.731404958677686,\n",
       " 0.743801652892562,\n",
       " 0.7148760330578512,\n",
       " 0.71900826446281,\n",
       " 0.731404958677686,\n",
       " 0.7272727272727273,\n",
       " 0.7231404958677686,\n",
       " 0.731404958677686,\n",
       " 0.71900826446281,\n",
       " 0.7148760330578512,\n",
       " 0.6900826446280992,\n",
       " 0.7272727272727273,\n",
       " 0.71900826446281,\n",
       " 0.7107438016528925,\n",
       " 0.7066115702479339]"
      ]
     },
     "execution_count": 27,
     "metadata": {},
     "output_type": "execute_result"
    }
   ],
   "source": [
    "train_scores"
   ]
  },
  {
   "cell_type": "code",
   "execution_count": 28,
   "id": "a11a0f71-8f2e-4f27-b0d5-74b992085545",
   "metadata": {},
   "outputs": [
    {
     "data": {
      "text/plain": [
       "[0.6065573770491803,\n",
       " 0.6557377049180327,\n",
       " 0.6229508196721312,\n",
       " 0.6229508196721312,\n",
       " 0.5573770491803278,\n",
       " 0.639344262295082,\n",
       " 0.6721311475409836,\n",
       " 0.6557377049180327,\n",
       " 0.6065573770491803,\n",
       " 0.6065573770491803,\n",
       " 0.6229508196721312,\n",
       " 0.639344262295082,\n",
       " 0.6557377049180327,\n",
       " 0.6557377049180327,\n",
       " 0.6557377049180327,\n",
       " 0.6557377049180327,\n",
       " 0.6721311475409836,\n",
       " 0.6721311475409836,\n",
       " 0.6557377049180327,\n",
       " 0.6721311475409836]"
      ]
     },
     "execution_count": 28,
     "metadata": {},
     "output_type": "execute_result"
    }
   ],
   "source": [
    "test_scores"
   ]
  },
  {
   "cell_type": "code",
   "execution_count": 29,
   "id": "72664d0b-ce8e-4970-a010-182f883e2c98",
   "metadata": {},
   "outputs": [
    {
     "name": "stdout",
     "output_type": "stream",
     "text": [
      "Maximum knn score on test data: 67.21%\n"
     ]
    },
    {
     "data": {
      "image/png": "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",
      "text/plain": [
       "<Figure size 640x480 with 1 Axes>"
      ]
     },
     "metadata": {},
     "output_type": "display_data"
    }
   ],
   "source": [
    "plt.plot(neighbors,train_scores,label=\"Train Scores\")\n",
    "plt.plot(neighbors,test_scores,label=\"Test Scores\")\n",
    "plt.title(\"Model scores vs Neigbors\")\n",
    "plt.xticks(np.arange(1,21,1))\n",
    "plt.xlabel(\"Neigbors\")\n",
    "plt.ylabel(\"Model Scores\")\n",
    "plt.legend()\n",
    "print(f\"Maximum knn score on test data: {max(test_scores)*100:.2f}%\")"
   ]
  },
  {
   "cell_type": "markdown",
   "id": "4d39ce8c-8fa6-4672-9f32-867b1bd53787",
   "metadata": {},
   "source": [
    "## HyperParameter Tuning Using RandomizedSearchCV"
   ]
  },
  {
   "cell_type": "code",
   "execution_count": 30,
   "id": "2787a0ef-1db6-4fec-96aa-6997e346083b",
   "metadata": {},
   "outputs": [],
   "source": [
    "log_reg_grid={\"C\":np.logspace(-4,4,20),\n",
    "              \"solver\":[\"liblinear\"]}\n",
    "rf_grid={ \"n_estimators\": np.arange(10,1000,50),\n",
    "         \"max_depth\":[None,3,5,10],\n",
    "         \"min_samples_split\":np.arange(2,20,2),\n",
    "         \"min_samples_leaf\":np.arange(1,20,2)}"
   ]
  },
  {
   "cell_type": "markdown",
   "id": "9d404a95-eb0b-44f1-8a6f-4508b86021d0",
   "metadata": {},
   "source": [
    "Now we've got hyperparameter grids setup for each of our models, let's tune them using RandomizedSearchCV...\n",
    "\n"
   ]
  },
  {
   "cell_type": "code",
   "execution_count": 31,
   "id": "56d55cc8-251b-4c4f-8c57-aaf5dedb474d",
   "metadata": {},
   "outputs": [
    {
     "name": "stdout",
     "output_type": "stream",
     "text": [
      "Fitting 5 folds for each of 20 candidates, totalling 100 fits\n"
     ]
    },
    {
     "data": {
      "text/html": [
       "<style>#sk-container-id-1 {color: black;}#sk-container-id-1 pre{padding: 0;}#sk-container-id-1 div.sk-toggleable {background-color: white;}#sk-container-id-1 label.sk-toggleable__label {cursor: pointer;display: block;width: 100%;margin-bottom: 0;padding: 0.3em;box-sizing: border-box;text-align: center;}#sk-container-id-1 label.sk-toggleable__label-arrow:before {content: \"▸\";float: left;margin-right: 0.25em;color: #696969;}#sk-container-id-1 label.sk-toggleable__label-arrow:hover:before {color: black;}#sk-container-id-1 div.sk-estimator:hover label.sk-toggleable__label-arrow:before {color: black;}#sk-container-id-1 div.sk-toggleable__content {max-height: 0;max-width: 0;overflow: hidden;text-align: left;background-color: #f0f8ff;}#sk-container-id-1 div.sk-toggleable__content pre {margin: 0.2em;color: black;border-radius: 0.25em;background-color: #f0f8ff;}#sk-container-id-1 input.sk-toggleable__control:checked~div.sk-toggleable__content {max-height: 200px;max-width: 100%;overflow: auto;}#sk-container-id-1 input.sk-toggleable__control:checked~label.sk-toggleable__label-arrow:before {content: \"▾\";}#sk-container-id-1 div.sk-estimator input.sk-toggleable__control:checked~label.sk-toggleable__label {background-color: #d4ebff;}#sk-container-id-1 div.sk-label input.sk-toggleable__control:checked~label.sk-toggleable__label {background-color: #d4ebff;}#sk-container-id-1 input.sk-hidden--visually {border: 0;clip: rect(1px 1px 1px 1px);clip: rect(1px, 1px, 1px, 1px);height: 1px;margin: -1px;overflow: hidden;padding: 0;position: absolute;width: 1px;}#sk-container-id-1 div.sk-estimator {font-family: monospace;background-color: #f0f8ff;border: 1px dotted black;border-radius: 0.25em;box-sizing: border-box;margin-bottom: 0.5em;}#sk-container-id-1 div.sk-estimator:hover {background-color: #d4ebff;}#sk-container-id-1 div.sk-parallel-item::after {content: \"\";width: 100%;border-bottom: 1px solid gray;flex-grow: 1;}#sk-container-id-1 div.sk-label:hover label.sk-toggleable__label {background-color: #d4ebff;}#sk-container-id-1 div.sk-serial::before {content: \"\";position: absolute;border-left: 1px solid gray;box-sizing: border-box;top: 0;bottom: 0;left: 50%;z-index: 0;}#sk-container-id-1 div.sk-serial {display: flex;flex-direction: column;align-items: center;background-color: white;padding-right: 0.2em;padding-left: 0.2em;position: relative;}#sk-container-id-1 div.sk-item {position: relative;z-index: 1;}#sk-container-id-1 div.sk-parallel {display: flex;align-items: stretch;justify-content: center;background-color: white;position: relative;}#sk-container-id-1 div.sk-item::before, #sk-container-id-1 div.sk-parallel-item::before {content: \"\";position: absolute;border-left: 1px solid gray;box-sizing: border-box;top: 0;bottom: 0;left: 50%;z-index: -1;}#sk-container-id-1 div.sk-parallel-item {display: flex;flex-direction: column;z-index: 1;position: relative;background-color: white;}#sk-container-id-1 div.sk-parallel-item:first-child::after {align-self: flex-end;width: 50%;}#sk-container-id-1 div.sk-parallel-item:last-child::after {align-self: flex-start;width: 50%;}#sk-container-id-1 div.sk-parallel-item:only-child::after {width: 0;}#sk-container-id-1 div.sk-dashed-wrapped {border: 1px dashed gray;margin: 0 0.4em 0.5em 0.4em;box-sizing: border-box;padding-bottom: 0.4em;background-color: white;}#sk-container-id-1 div.sk-label label {font-family: monospace;font-weight: bold;display: inline-block;line-height: 1.2em;}#sk-container-id-1 div.sk-label-container {text-align: center;}#sk-container-id-1 div.sk-container {/* jupyter's `normalize.less` sets `[hidden] { display: none; }` but bootstrap.min.css set `[hidden] { display: none !important; }` so we also need the `!important` here to be able to override the default hidden behavior on the sphinx rendered scikit-learn.org. See: https://github.com/scikit-learn/scikit-learn/issues/21755 */display: inline-block !important;position: relative;}#sk-container-id-1 div.sk-text-repr-fallback {display: none;}</style><div id=\"sk-container-id-1\" class=\"sk-top-container\"><div class=\"sk-text-repr-fallback\"><pre>RandomizedSearchCV(cv=5, estimator=LogisticRegression(), n_iter=20,\n",
       "                   param_distributions={&#x27;C&#x27;: array([1.00000000e-04, 2.63665090e-04, 6.95192796e-04, 1.83298071e-03,\n",
       "       4.83293024e-03, 1.27427499e-02, 3.35981829e-02, 8.85866790e-02,\n",
       "       2.33572147e-01, 6.15848211e-01, 1.62377674e+00, 4.28133240e+00,\n",
       "       1.12883789e+01, 2.97635144e+01, 7.84759970e+01, 2.06913808e+02,\n",
       "       5.45559478e+02, 1.43844989e+03, 3.79269019e+03, 1.00000000e+04]),\n",
       "                                        &#x27;solver&#x27;: [&#x27;liblinear&#x27;]},\n",
       "                   verbose=True)</pre><b>In a Jupyter environment, please rerun this cell to show the HTML representation or trust the notebook. <br />On GitHub, the HTML representation is unable to render, please try loading this page with nbviewer.org.</b></div><div class=\"sk-container\" hidden><div class=\"sk-item sk-dashed-wrapped\"><div class=\"sk-label-container\"><div class=\"sk-label sk-toggleable\"><input class=\"sk-toggleable__control sk-hidden--visually\" id=\"sk-estimator-id-1\" type=\"checkbox\" ><label for=\"sk-estimator-id-1\" class=\"sk-toggleable__label sk-toggleable__label-arrow\">RandomizedSearchCV</label><div class=\"sk-toggleable__content\"><pre>RandomizedSearchCV(cv=5, estimator=LogisticRegression(), n_iter=20,\n",
       "                   param_distributions={&#x27;C&#x27;: array([1.00000000e-04, 2.63665090e-04, 6.95192796e-04, 1.83298071e-03,\n",
       "       4.83293024e-03, 1.27427499e-02, 3.35981829e-02, 8.85866790e-02,\n",
       "       2.33572147e-01, 6.15848211e-01, 1.62377674e+00, 4.28133240e+00,\n",
       "       1.12883789e+01, 2.97635144e+01, 7.84759970e+01, 2.06913808e+02,\n",
       "       5.45559478e+02, 1.43844989e+03, 3.79269019e+03, 1.00000000e+04]),\n",
       "                                        &#x27;solver&#x27;: [&#x27;liblinear&#x27;]},\n",
       "                   verbose=True)</pre></div></div></div><div class=\"sk-parallel\"><div class=\"sk-parallel-item\"><div class=\"sk-item\"><div class=\"sk-label-container\"><div class=\"sk-label sk-toggleable\"><input class=\"sk-toggleable__control sk-hidden--visually\" id=\"sk-estimator-id-2\" type=\"checkbox\" ><label for=\"sk-estimator-id-2\" class=\"sk-toggleable__label sk-toggleable__label-arrow\">estimator: LogisticRegression</label><div class=\"sk-toggleable__content\"><pre>LogisticRegression()</pre></div></div></div><div class=\"sk-serial\"><div class=\"sk-item\"><div class=\"sk-estimator sk-toggleable\"><input class=\"sk-toggleable__control sk-hidden--visually\" id=\"sk-estimator-id-3\" type=\"checkbox\" ><label for=\"sk-estimator-id-3\" class=\"sk-toggleable__label sk-toggleable__label-arrow\">LogisticRegression</label><div class=\"sk-toggleable__content\"><pre>LogisticRegression()</pre></div></div></div></div></div></div></div></div></div></div>"
      ],
      "text/plain": [
       "RandomizedSearchCV(cv=5, estimator=LogisticRegression(), n_iter=20,\n",
       "                   param_distributions={'C': array([1.00000000e-04, 2.63665090e-04, 6.95192796e-04, 1.83298071e-03,\n",
       "       4.83293024e-03, 1.27427499e-02, 3.35981829e-02, 8.85866790e-02,\n",
       "       2.33572147e-01, 6.15848211e-01, 1.62377674e+00, 4.28133240e+00,\n",
       "       1.12883789e+01, 2.97635144e+01, 7.84759970e+01, 2.06913808e+02,\n",
       "       5.45559478e+02, 1.43844989e+03, 3.79269019e+03, 1.00000000e+04]),\n",
       "                                        'solver': ['liblinear']},\n",
       "                   verbose=True)"
      ]
     },
     "execution_count": 31,
     "metadata": {},
     "output_type": "execute_result"
    }
   ],
   "source": [
    "# Tune LogisticRegression\n",
    "\n",
    "np.random.seed(42)\n",
    "\n",
    "# Setup random hyperparameter search for LogisticRegression\n",
    "rs_log_reg = RandomizedSearchCV(LogisticRegression(),\n",
    "                                param_distributions=log_reg_grid,\n",
    "                                cv=5,\n",
    "                                n_iter=20,\n",
    "                                verbose=True)\n",
    "\n",
    "# Fit random hyperparameter search model for LogisticRegression\n",
    "rs_log_reg.fit(x_train, y_train)\n"
   ]
  },
  {
   "cell_type": "code",
   "execution_count": 32,
   "id": "07492c64-c9d7-4e91-bf90-c265556e931e",
   "metadata": {},
   "outputs": [
    {
     "data": {
      "text/plain": [
       "{'solver': 'liblinear', 'C': 0.615848211066026}"
      ]
     },
     "execution_count": 32,
     "metadata": {},
     "output_type": "execute_result"
    }
   ],
   "source": [
    "rs_log_reg.best_params_"
   ]
  },
  {
   "cell_type": "code",
   "execution_count": 33,
   "id": "0155c0f7-06e0-4177-a70a-a19d8f46b900",
   "metadata": {},
   "outputs": [
    {
     "data": {
      "text/plain": [
       "0.7540983606557377"
      ]
     },
     "execution_count": 33,
     "metadata": {},
     "output_type": "execute_result"
    }
   ],
   "source": [
    "rs_log_reg.score(x_test,y_test)"
   ]
  },
  {
   "cell_type": "markdown",
   "id": "db9ac58a-f9cb-4431-82e0-a047386e21a0",
   "metadata": {},
   "source": [
    "\n",
    "Now we've tuned LogisticRegression(), let's do the same for RandomForestClassifier()..."
   ]
  },
  {
   "cell_type": "code",
   "execution_count": 34,
   "id": "26b2f17f-953f-4e28-ae07-713028c1615c",
   "metadata": {},
   "outputs": [
    {
     "name": "stdout",
     "output_type": "stream",
     "text": [
      "Fitting 5 folds for each of 20 candidates, totalling 100 fits\n"
     ]
    },
    {
     "data": {
      "text/html": [
       "<style>#sk-container-id-2 {color: black;}#sk-container-id-2 pre{padding: 0;}#sk-container-id-2 div.sk-toggleable {background-color: white;}#sk-container-id-2 label.sk-toggleable__label {cursor: pointer;display: block;width: 100%;margin-bottom: 0;padding: 0.3em;box-sizing: border-box;text-align: center;}#sk-container-id-2 label.sk-toggleable__label-arrow:before {content: \"▸\";float: left;margin-right: 0.25em;color: #696969;}#sk-container-id-2 label.sk-toggleable__label-arrow:hover:before {color: black;}#sk-container-id-2 div.sk-estimator:hover label.sk-toggleable__label-arrow:before {color: black;}#sk-container-id-2 div.sk-toggleable__content {max-height: 0;max-width: 0;overflow: hidden;text-align: left;background-color: #f0f8ff;}#sk-container-id-2 div.sk-toggleable__content pre {margin: 0.2em;color: black;border-radius: 0.25em;background-color: #f0f8ff;}#sk-container-id-2 input.sk-toggleable__control:checked~div.sk-toggleable__content {max-height: 200px;max-width: 100%;overflow: auto;}#sk-container-id-2 input.sk-toggleable__control:checked~label.sk-toggleable__label-arrow:before {content: \"▾\";}#sk-container-id-2 div.sk-estimator input.sk-toggleable__control:checked~label.sk-toggleable__label {background-color: #d4ebff;}#sk-container-id-2 div.sk-label input.sk-toggleable__control:checked~label.sk-toggleable__label {background-color: #d4ebff;}#sk-container-id-2 input.sk-hidden--visually {border: 0;clip: rect(1px 1px 1px 1px);clip: rect(1px, 1px, 1px, 1px);height: 1px;margin: -1px;overflow: hidden;padding: 0;position: absolute;width: 1px;}#sk-container-id-2 div.sk-estimator {font-family: monospace;background-color: #f0f8ff;border: 1px dotted black;border-radius: 0.25em;box-sizing: border-box;margin-bottom: 0.5em;}#sk-container-id-2 div.sk-estimator:hover {background-color: #d4ebff;}#sk-container-id-2 div.sk-parallel-item::after {content: \"\";width: 100%;border-bottom: 1px solid gray;flex-grow: 1;}#sk-container-id-2 div.sk-label:hover label.sk-toggleable__label {background-color: #d4ebff;}#sk-container-id-2 div.sk-serial::before {content: \"\";position: absolute;border-left: 1px solid gray;box-sizing: border-box;top: 0;bottom: 0;left: 50%;z-index: 0;}#sk-container-id-2 div.sk-serial {display: flex;flex-direction: column;align-items: center;background-color: white;padding-right: 0.2em;padding-left: 0.2em;position: relative;}#sk-container-id-2 div.sk-item {position: relative;z-index: 1;}#sk-container-id-2 div.sk-parallel {display: flex;align-items: stretch;justify-content: center;background-color: white;position: relative;}#sk-container-id-2 div.sk-item::before, #sk-container-id-2 div.sk-parallel-item::before {content: \"\";position: absolute;border-left: 1px solid gray;box-sizing: border-box;top: 0;bottom: 0;left: 50%;z-index: -1;}#sk-container-id-2 div.sk-parallel-item {display: flex;flex-direction: column;z-index: 1;position: relative;background-color: white;}#sk-container-id-2 div.sk-parallel-item:first-child::after {align-self: flex-end;width: 50%;}#sk-container-id-2 div.sk-parallel-item:last-child::after {align-self: flex-start;width: 50%;}#sk-container-id-2 div.sk-parallel-item:only-child::after {width: 0;}#sk-container-id-2 div.sk-dashed-wrapped {border: 1px dashed gray;margin: 0 0.4em 0.5em 0.4em;box-sizing: border-box;padding-bottom: 0.4em;background-color: white;}#sk-container-id-2 div.sk-label label {font-family: monospace;font-weight: bold;display: inline-block;line-height: 1.2em;}#sk-container-id-2 div.sk-label-container {text-align: center;}#sk-container-id-2 div.sk-container {/* jupyter's `normalize.less` sets `[hidden] { display: none; }` but bootstrap.min.css set `[hidden] { display: none !important; }` so we also need the `!important` here to be able to override the default hidden behavior on the sphinx rendered scikit-learn.org. See: https://github.com/scikit-learn/scikit-learn/issues/21755 */display: inline-block !important;position: relative;}#sk-container-id-2 div.sk-text-repr-fallback {display: none;}</style><div id=\"sk-container-id-2\" class=\"sk-top-container\"><div class=\"sk-text-repr-fallback\"><pre>RandomizedSearchCV(cv=5, estimator=RandomForestClassifier(), n_iter=20,\n",
       "                   param_distributions={&#x27;max_depth&#x27;: [None, 3, 5, 10],\n",
       "                                        &#x27;min_samples_leaf&#x27;: array([ 1,  3,  5,  7,  9, 11, 13, 15, 17, 19]),\n",
       "                                        &#x27;min_samples_split&#x27;: array([ 2,  4,  6,  8, 10, 12, 14, 16, 18]),\n",
       "                                        &#x27;n_estimators&#x27;: array([ 10,  60, 110, 160, 210, 260, 310, 360, 410, 460, 510, 560, 610,\n",
       "       660, 710, 760, 810, 860, 910, 960])},\n",
       "                   verbose=True)</pre><b>In a Jupyter environment, please rerun this cell to show the HTML representation or trust the notebook. <br />On GitHub, the HTML representation is unable to render, please try loading this page with nbviewer.org.</b></div><div class=\"sk-container\" hidden><div class=\"sk-item sk-dashed-wrapped\"><div class=\"sk-label-container\"><div class=\"sk-label sk-toggleable\"><input class=\"sk-toggleable__control sk-hidden--visually\" id=\"sk-estimator-id-4\" type=\"checkbox\" ><label for=\"sk-estimator-id-4\" class=\"sk-toggleable__label sk-toggleable__label-arrow\">RandomizedSearchCV</label><div class=\"sk-toggleable__content\"><pre>RandomizedSearchCV(cv=5, estimator=RandomForestClassifier(), n_iter=20,\n",
       "                   param_distributions={&#x27;max_depth&#x27;: [None, 3, 5, 10],\n",
       "                                        &#x27;min_samples_leaf&#x27;: array([ 1,  3,  5,  7,  9, 11, 13, 15, 17, 19]),\n",
       "                                        &#x27;min_samples_split&#x27;: array([ 2,  4,  6,  8, 10, 12, 14, 16, 18]),\n",
       "                                        &#x27;n_estimators&#x27;: array([ 10,  60, 110, 160, 210, 260, 310, 360, 410, 460, 510, 560, 610,\n",
       "       660, 710, 760, 810, 860, 910, 960])},\n",
       "                   verbose=True)</pre></div></div></div><div class=\"sk-parallel\"><div class=\"sk-parallel-item\"><div class=\"sk-item\"><div class=\"sk-label-container\"><div class=\"sk-label sk-toggleable\"><input class=\"sk-toggleable__control sk-hidden--visually\" id=\"sk-estimator-id-5\" type=\"checkbox\" ><label for=\"sk-estimator-id-5\" class=\"sk-toggleable__label sk-toggleable__label-arrow\">estimator: RandomForestClassifier</label><div class=\"sk-toggleable__content\"><pre>RandomForestClassifier()</pre></div></div></div><div class=\"sk-serial\"><div class=\"sk-item\"><div class=\"sk-estimator sk-toggleable\"><input class=\"sk-toggleable__control sk-hidden--visually\" id=\"sk-estimator-id-6\" type=\"checkbox\" ><label for=\"sk-estimator-id-6\" class=\"sk-toggleable__label sk-toggleable__label-arrow\">RandomForestClassifier</label><div class=\"sk-toggleable__content\"><pre>RandomForestClassifier()</pre></div></div></div></div></div></div></div></div></div></div>"
      ],
      "text/plain": [
       "RandomizedSearchCV(cv=5, estimator=RandomForestClassifier(), n_iter=20,\n",
       "                   param_distributions={'max_depth': [None, 3, 5, 10],\n",
       "                                        'min_samples_leaf': array([ 1,  3,  5,  7,  9, 11, 13, 15, 17, 19]),\n",
       "                                        'min_samples_split': array([ 2,  4,  6,  8, 10, 12, 14, 16, 18]),\n",
       "                                        'n_estimators': array([ 10,  60, 110, 160, 210, 260, 310, 360, 410, 460, 510, 560, 610,\n",
       "       660, 710, 760, 810, 860, 910, 960])},\n",
       "                   verbose=True)"
      ]
     },
     "execution_count": 34,
     "metadata": {},
     "output_type": "execute_result"
    }
   ],
   "source": [
    "# Tune LogisticRegression\n",
    "\n",
    "np.random.seed(42)\n",
    "\n",
    "# Setup random hyperparameter search for LogisticRegression\n",
    "rs_rf = RandomizedSearchCV(RandomForestClassifier(),\n",
    "                                param_distributions=rf_grid,\n",
    "                                cv=5,\n",
    "                                n_iter=20,\n",
    "                                verbose=True)\n",
    "\n",
    "# Fit random hyperparameter search model for LogisticRegression\n",
    "rs_rf.fit(x_train, y_train)\n"
   ]
  },
  {
   "cell_type": "code",
   "execution_count": 35,
   "id": "bd0183cc-6ded-4a8d-b979-8d88b878226d",
   "metadata": {},
   "outputs": [
    {
     "data": {
      "text/plain": [
       "0.7213114754098361"
      ]
     },
     "execution_count": 35,
     "metadata": {},
     "output_type": "execute_result"
    }
   ],
   "source": [
    "rs_rf.score(x_test,y_test)"
   ]
  },
  {
   "cell_type": "markdown",
   "id": "17652de8-4169-40b5-bfab-8e6e211a0366",
   "metadata": {},
   "source": [
    "## HYperParameter Tunning using GridSearchCV"
   ]
  },
  {
   "cell_type": "code",
   "execution_count": 36,
   "id": "b5514d5a-eeaa-4a85-833b-6b83aa81e71a",
   "metadata": {},
   "outputs": [
    {
     "name": "stdout",
     "output_type": "stream",
     "text": [
      "Fitting 5 folds for each of 30 candidates, totalling 150 fits\n"
     ]
    },
    {
     "data": {
      "text/html": [
       "<style>#sk-container-id-3 {color: black;}#sk-container-id-3 pre{padding: 0;}#sk-container-id-3 div.sk-toggleable {background-color: white;}#sk-container-id-3 label.sk-toggleable__label {cursor: pointer;display: block;width: 100%;margin-bottom: 0;padding: 0.3em;box-sizing: border-box;text-align: center;}#sk-container-id-3 label.sk-toggleable__label-arrow:before {content: \"▸\";float: left;margin-right: 0.25em;color: #696969;}#sk-container-id-3 label.sk-toggleable__label-arrow:hover:before {color: black;}#sk-container-id-3 div.sk-estimator:hover label.sk-toggleable__label-arrow:before {color: black;}#sk-container-id-3 div.sk-toggleable__content {max-height: 0;max-width: 0;overflow: hidden;text-align: left;background-color: #f0f8ff;}#sk-container-id-3 div.sk-toggleable__content pre {margin: 0.2em;color: black;border-radius: 0.25em;background-color: #f0f8ff;}#sk-container-id-3 input.sk-toggleable__control:checked~div.sk-toggleable__content {max-height: 200px;max-width: 100%;overflow: auto;}#sk-container-id-3 input.sk-toggleable__control:checked~label.sk-toggleable__label-arrow:before {content: \"▾\";}#sk-container-id-3 div.sk-estimator input.sk-toggleable__control:checked~label.sk-toggleable__label {background-color: #d4ebff;}#sk-container-id-3 div.sk-label input.sk-toggleable__control:checked~label.sk-toggleable__label {background-color: #d4ebff;}#sk-container-id-3 input.sk-hidden--visually {border: 0;clip: rect(1px 1px 1px 1px);clip: rect(1px, 1px, 1px, 1px);height: 1px;margin: -1px;overflow: hidden;padding: 0;position: absolute;width: 1px;}#sk-container-id-3 div.sk-estimator {font-family: monospace;background-color: #f0f8ff;border: 1px dotted black;border-radius: 0.25em;box-sizing: border-box;margin-bottom: 0.5em;}#sk-container-id-3 div.sk-estimator:hover {background-color: #d4ebff;}#sk-container-id-3 div.sk-parallel-item::after {content: \"\";width: 100%;border-bottom: 1px solid gray;flex-grow: 1;}#sk-container-id-3 div.sk-label:hover label.sk-toggleable__label {background-color: #d4ebff;}#sk-container-id-3 div.sk-serial::before {content: \"\";position: absolute;border-left: 1px solid gray;box-sizing: border-box;top: 0;bottom: 0;left: 50%;z-index: 0;}#sk-container-id-3 div.sk-serial {display: flex;flex-direction: column;align-items: center;background-color: white;padding-right: 0.2em;padding-left: 0.2em;position: relative;}#sk-container-id-3 div.sk-item {position: relative;z-index: 1;}#sk-container-id-3 div.sk-parallel {display: flex;align-items: stretch;justify-content: center;background-color: white;position: relative;}#sk-container-id-3 div.sk-item::before, #sk-container-id-3 div.sk-parallel-item::before {content: \"\";position: absolute;border-left: 1px solid gray;box-sizing: border-box;top: 0;bottom: 0;left: 50%;z-index: -1;}#sk-container-id-3 div.sk-parallel-item {display: flex;flex-direction: column;z-index: 1;position: relative;background-color: white;}#sk-container-id-3 div.sk-parallel-item:first-child::after {align-self: flex-end;width: 50%;}#sk-container-id-3 div.sk-parallel-item:last-child::after {align-self: flex-start;width: 50%;}#sk-container-id-3 div.sk-parallel-item:only-child::after {width: 0;}#sk-container-id-3 div.sk-dashed-wrapped {border: 1px dashed gray;margin: 0 0.4em 0.5em 0.4em;box-sizing: border-box;padding-bottom: 0.4em;background-color: white;}#sk-container-id-3 div.sk-label label {font-family: monospace;font-weight: bold;display: inline-block;line-height: 1.2em;}#sk-container-id-3 div.sk-label-container {text-align: center;}#sk-container-id-3 div.sk-container {/* jupyter's `normalize.less` sets `[hidden] { display: none; }` but bootstrap.min.css set `[hidden] { display: none !important; }` so we also need the `!important` here to be able to override the default hidden behavior on the sphinx rendered scikit-learn.org. See: https://github.com/scikit-learn/scikit-learn/issues/21755 */display: inline-block !important;position: relative;}#sk-container-id-3 div.sk-text-repr-fallback {display: none;}</style><div id=\"sk-container-id-3\" class=\"sk-top-container\"><div class=\"sk-text-repr-fallback\"><pre>GridSearchCV(cv=5, estimator=LogisticRegression(),\n",
       "             param_grid={&#x27;C&#x27;: array([1.00000000e-04, 1.88739182e-04, 3.56224789e-04, 6.72335754e-04,\n",
       "       1.26896100e-03, 2.39502662e-03, 4.52035366e-03, 8.53167852e-03,\n",
       "       1.61026203e-02, 3.03919538e-02, 5.73615251e-02, 1.08263673e-01,\n",
       "       2.04335972e-01, 3.85662042e-01, 7.27895384e-01, 1.37382380e+00,\n",
       "       2.59294380e+00, 4.89390092e+00, 9.23670857e+00, 1.74332882e+01,\n",
       "       3.29034456e+01, 6.21016942e+01, 1.17210230e+02, 2.21221629e+02,\n",
       "       4.17531894e+02, 7.88046282e+02, 1.48735211e+03, 2.80721620e+03,\n",
       "       5.29831691e+03, 1.00000000e+04]),\n",
       "                         &#x27;solver&#x27;: [&#x27;liblinear&#x27;]},\n",
       "             verbose=True)</pre><b>In a Jupyter environment, please rerun this cell to show the HTML representation or trust the notebook. <br />On GitHub, the HTML representation is unable to render, please try loading this page with nbviewer.org.</b></div><div class=\"sk-container\" hidden><div class=\"sk-item sk-dashed-wrapped\"><div class=\"sk-label-container\"><div class=\"sk-label sk-toggleable\"><input class=\"sk-toggleable__control sk-hidden--visually\" id=\"sk-estimator-id-7\" type=\"checkbox\" ><label for=\"sk-estimator-id-7\" class=\"sk-toggleable__label sk-toggleable__label-arrow\">GridSearchCV</label><div class=\"sk-toggleable__content\"><pre>GridSearchCV(cv=5, estimator=LogisticRegression(),\n",
       "             param_grid={&#x27;C&#x27;: array([1.00000000e-04, 1.88739182e-04, 3.56224789e-04, 6.72335754e-04,\n",
       "       1.26896100e-03, 2.39502662e-03, 4.52035366e-03, 8.53167852e-03,\n",
       "       1.61026203e-02, 3.03919538e-02, 5.73615251e-02, 1.08263673e-01,\n",
       "       2.04335972e-01, 3.85662042e-01, 7.27895384e-01, 1.37382380e+00,\n",
       "       2.59294380e+00, 4.89390092e+00, 9.23670857e+00, 1.74332882e+01,\n",
       "       3.29034456e+01, 6.21016942e+01, 1.17210230e+02, 2.21221629e+02,\n",
       "       4.17531894e+02, 7.88046282e+02, 1.48735211e+03, 2.80721620e+03,\n",
       "       5.29831691e+03, 1.00000000e+04]),\n",
       "                         &#x27;solver&#x27;: [&#x27;liblinear&#x27;]},\n",
       "             verbose=True)</pre></div></div></div><div class=\"sk-parallel\"><div class=\"sk-parallel-item\"><div class=\"sk-item\"><div class=\"sk-label-container\"><div class=\"sk-label sk-toggleable\"><input class=\"sk-toggleable__control sk-hidden--visually\" id=\"sk-estimator-id-8\" type=\"checkbox\" ><label for=\"sk-estimator-id-8\" class=\"sk-toggleable__label sk-toggleable__label-arrow\">estimator: LogisticRegression</label><div class=\"sk-toggleable__content\"><pre>LogisticRegression()</pre></div></div></div><div class=\"sk-serial\"><div class=\"sk-item\"><div class=\"sk-estimator sk-toggleable\"><input class=\"sk-toggleable__control sk-hidden--visually\" id=\"sk-estimator-id-9\" type=\"checkbox\" ><label for=\"sk-estimator-id-9\" class=\"sk-toggleable__label sk-toggleable__label-arrow\">LogisticRegression</label><div class=\"sk-toggleable__content\"><pre>LogisticRegression()</pre></div></div></div></div></div></div></div></div></div></div>"
      ],
      "text/plain": [
       "GridSearchCV(cv=5, estimator=LogisticRegression(),\n",
       "             param_grid={'C': array([1.00000000e-04, 1.88739182e-04, 3.56224789e-04, 6.72335754e-04,\n",
       "       1.26896100e-03, 2.39502662e-03, 4.52035366e-03, 8.53167852e-03,\n",
       "       1.61026203e-02, 3.03919538e-02, 5.73615251e-02, 1.08263673e-01,\n",
       "       2.04335972e-01, 3.85662042e-01, 7.27895384e-01, 1.37382380e+00,\n",
       "       2.59294380e+00, 4.89390092e+00, 9.23670857e+00, 1.74332882e+01,\n",
       "       3.29034456e+01, 6.21016942e+01, 1.17210230e+02, 2.21221629e+02,\n",
       "       4.17531894e+02, 7.88046282e+02, 1.48735211e+03, 2.80721620e+03,\n",
       "       5.29831691e+03, 1.00000000e+04]),\n",
       "                         'solver': ['liblinear']},\n",
       "             verbose=True)"
      ]
     },
     "execution_count": 36,
     "metadata": {},
     "output_type": "execute_result"
    }
   ],
   "source": [
    "log_reg_grid={\"C\":np.logspace(-4,4,30),\n",
    "              \"solver\":[\"liblinear\"]}\n",
    "gs_log_reg=GridSearchCV(LogisticRegression(),\n",
    "                          param_grid=log_reg_grid,\n",
    "                          cv=5,\n",
    "                          verbose=True)\n",
    "    \n",
    "gs_log_reg.fit(x_train,y_train)"
   ]
  },
  {
   "cell_type": "code",
   "execution_count": 37,
   "id": "a8b335c0-df94-4d73-be39-141c7b529233",
   "metadata": {},
   "outputs": [
    {
     "data": {
      "text/plain": [
       "{'C': 0.38566204211634725, 'solver': 'liblinear'}"
      ]
     },
     "execution_count": 37,
     "metadata": {},
     "output_type": "execute_result"
    }
   ],
   "source": [
    "gs_log_reg.best_params_"
   ]
  },
  {
   "cell_type": "code",
   "execution_count": 38,
   "id": "163e0bf8-2879-498a-be12-e375149951f4",
   "metadata": {},
   "outputs": [
    {
     "data": {
      "text/plain": [
       "0.7540983606557377"
      ]
     },
     "execution_count": 38,
     "metadata": {},
     "output_type": "execute_result"
    }
   ],
   "source": [
    "gs_log_reg.score(x_test,y_test)"
   ]
  },
  {
   "cell_type": "markdown",
   "id": "185580e6-2c99-4304-9652-9b528cc61eba",
   "metadata": {},
   "source": [
    "## Evaluating our tuned model beyond accuracy"
   ]
  },
  {
   "cell_type": "code",
   "execution_count": 39,
   "id": "1dfab847-803c-45d8-af03-b114ec673283",
   "metadata": {},
   "outputs": [
    {
     "data": {
      "text/plain": [
       "array([1, 1, 1, 1, 1, 1, 1, 0, 1, 1, 1, 0, 0, 1, 0, 0, 1, 1, 0, 1, 1, 1,\n",
       "       0, 0, 1, 0, 0, 1, 1, 1, 1, 1, 1, 0, 1, 1, 1, 1, 1, 1, 0, 1, 1, 1,\n",
       "       0, 0, 0, 0, 1, 1, 1, 0, 1, 1, 0, 1, 1, 0, 0, 0, 1])"
      ]
     },
     "execution_count": 39,
     "metadata": {},
     "output_type": "execute_result"
    }
   ],
   "source": [
    "y_preds=gs_log_reg.predict(x_test)\n",
    "y_preds"
   ]
  },
  {
   "cell_type": "code",
   "execution_count": 40,
   "id": "13f16f55-60ce-4161-80b1-df086878eaca",
   "metadata": {},
   "outputs": [
    {
     "data": {
      "image/png": "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",
      "text/plain": [
       "<Figure size 640x480 with 1 Axes>"
      ]
     },
     "metadata": {},
     "output_type": "display_data"
    }
   ],
   "source": [
    "RocCurveDisplay.from_estimator(gs_log_reg, x_test, y_test);"
   ]
  },
  {
   "cell_type": "code",
   "execution_count": 41,
   "id": "6f89fee2-2cbf-4b78-8178-eaeb97898a94",
   "metadata": {},
   "outputs": [
    {
     "name": "stdout",
     "output_type": "stream",
     "text": [
      "[[18 12]\n",
      " [ 3 28]]\n"
     ]
    }
   ],
   "source": [
    "print(confusion_matrix(y_test,y_preds))"
   ]
  },
  {
   "cell_type": "code",
   "execution_count": 42,
   "id": "ae16e1f2-d38f-4dfe-bcd2-78ce9fa17bcd",
   "metadata": {},
   "outputs": [
    {
     "data": {
      "image/png": "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",
      "text/plain": [
       "<Figure size 300x300 with 1 Axes>"
      ]
     },
     "metadata": {},
     "output_type": "display_data"
    }
   ],
   "source": [
    "sns.set(font_scale=1.5) # Increase font size\n",
    " \n",
    "def plot_conf_mat(y_test, y_preds):\n",
    "    \"\"\"\n",
    "    Plots a confusion matrix using Seaborn's heatmap().\n",
    "    \"\"\"\n",
    "    fig, ax = plt.subplots(figsize=(3, 3))\n",
    "    ax = sns.heatmap(confusion_matrix(y_test, y_preds),\n",
    "                     annot=True, # Annotate the boxes\n",
    "                     cbar=False)\n",
    "    plt.xlabel(\"Predicted label\") # predictions go on the x-axis\n",
    "    plt.ylabel(\"True label\") # true labels go on the y-axis \n",
    "    \n",
    "plot_conf_mat(y_test, y_preds)"
   ]
  },
  {
   "cell_type": "code",
   "execution_count": 43,
   "id": "eb522128-ff8e-439b-ba3e-e4caa4423ebc",
   "metadata": {},
   "outputs": [
    {
     "name": "stdout",
     "output_type": "stream",
     "text": [
      "              precision    recall  f1-score   support\n",
      "\n",
      "           0       0.86      0.60      0.71        30\n",
      "           1       0.70      0.90      0.79        31\n",
      "\n",
      "    accuracy                           0.75        61\n",
      "   macro avg       0.78      0.75      0.75        61\n",
      "weighted avg       0.78      0.75      0.75        61\n",
      "\n"
     ]
    }
   ],
   "source": [
    "print(classification_report(y_test,y_preds))"
   ]
  },
  {
   "cell_type": "markdown",
   "id": "b66dc9f7-eadf-4c33-b12e-68f6329814de",
   "metadata": {},
   "source": [
    "## Calculate eval metrics using cross validation"
   ]
  },
  {
   "cell_type": "code",
   "execution_count": 44,
   "id": "19cfb2d7-fbfd-4aaa-b688-9eb1f6bc4cff",
   "metadata": {},
   "outputs": [
    {
     "data": {
      "text/plain": [
       "{'C': 0.38566204211634725, 'solver': 'liblinear'}"
      ]
     },
     "execution_count": 44,
     "metadata": {},
     "output_type": "execute_result"
    }
   ],
   "source": [
    "gs_log_reg.best_params_"
   ]
  },
  {
   "cell_type": "code",
   "execution_count": 45,
   "id": "c7b19030-cc83-45cf-8bbf-2a4a4a8d964b",
   "metadata": {},
   "outputs": [],
   "source": [
    "# cretae new classifier with best params\n",
    "\n",
    "clf=LogisticRegression(C= 0.38566204211634725, solver= \"liblinear\")"
   ]
  },
  {
   "cell_type": "code",
   "execution_count": 46,
   "id": "92e8ef7c-f05c-43fd-a415-1c0f7d6fffbf",
   "metadata": {},
   "outputs": [
    {
     "data": {
      "text/plain": [
       "0.8380874316939891"
      ]
     },
     "execution_count": 46,
     "metadata": {},
     "output_type": "execute_result"
    }
   ],
   "source": [
    "# cross validated accuracy\n",
    "cv_acc=cross_val_score(clf, x, y, cv=5, scoring=\"accuracy\")\n",
    "cv_acc=np.mean(cv_acc)\n",
    "cv_acc"
   ]
  },
  {
   "cell_type": "code",
   "execution_count": 47,
   "id": "d324e794-4c98-48f5-995b-a14ea1bd9fd7",
   "metadata": {},
   "outputs": [
    {
     "data": {
      "text/plain": [
       "0.8154667272314331"
      ]
     },
     "execution_count": 47,
     "metadata": {},
     "output_type": "execute_result"
    }
   ],
   "source": [
    "# cross validated precision\n",
    "cv_precision=cross_val_score(clf, x, y, cv=5, scoring=\"precision\")\n",
    "cv_precision=np.mean(cv_precision)\n",
    "cv_precision"
   ]
  },
  {
   "cell_type": "code",
   "execution_count": 48,
   "id": "bcb3a371-4548-4f6f-95ef-f55998e0587e",
   "metadata": {},
   "outputs": [
    {
     "data": {
      "text/plain": [
       "0.9151515151515153"
      ]
     },
     "execution_count": 48,
     "metadata": {},
     "output_type": "execute_result"
    }
   ],
   "source": [
    "# cross validated recall\n",
    "cv_recall=cross_val_score(clf, x, y, cv=5, scoring=\"recall\")\n",
    "cv_recall=np.mean(cv_recall)\n",
    "cv_recall"
   ]
  },
  {
   "cell_type": "code",
   "execution_count": 49,
   "id": "955b0472-1e1f-4060-a881-a049beac328d",
   "metadata": {},
   "outputs": [
    {
     "data": {
      "text/plain": [
       "0.8614850462777628"
      ]
     },
     "execution_count": 49,
     "metadata": {},
     "output_type": "execute_result"
    }
   ],
   "source": [
    "# cross validated f1 score\n",
    "cv_f1=cross_val_score(clf, x, y, cv=5, scoring=\"f1\")\n",
    "cv_f1=np.mean(cv_f1)\n",
    "cv_f1"
   ]
  },
  {
   "cell_type": "code",
   "execution_count": 50,
   "id": "252c6924-3dcb-452a-a5bf-f5c46589945a",
   "metadata": {},
   "outputs": [
    {
     "data": {
      "image/png": "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",
      "text/plain": [
       "<Figure size 640x480 with 1 Axes>"
      ]
     },
     "metadata": {},
     "output_type": "display_data"
    }
   ],
   "source": [
    "\n",
    "cv_metrics = pd.DataFrame({\"Accuracy\": cv_acc,\n",
    "                           \"Precision\": cv_precision,\n",
    "                           \"Recall\": cv_recall,\n",
    "                           \"F1\": cv_f1},\n",
    "                          index=[0])\n",
    "\n",
    "cv_metrics.T.plot.bar(title=\"Cross-validated classification metrics\",\n",
    "                      legend=False);\n"
   ]
  },
  {
   "cell_type": "markdown",
   "id": "5530a26a-ae77-4b62-bb1b-d7a49df52fd0",
   "metadata": {},
   "source": [
    "## Feature Importance\n",
    "Feature importance is another as asking, \"which features contributed most to the outcomes of the model and how did they contribute?\"\n",
    "\n",
    "Finding feature importance is different for each machine learning model. One way to find feature importance is to search for \"(MODEL NAME) feature importance\".\n",
    "\n",
    "Let's find the feature importance for our LogisticRegression model..."
   ]
  },
  {
   "cell_type": "code",
   "execution_count": 51,
   "id": "b8718ad0-1070-4f9c-819a-bfc26d15618e",
   "metadata": {},
   "outputs": [
    {
     "data": {
      "text/plain": [
       "{'C': 0.38566204211634725, 'solver': 'liblinear'}"
      ]
     },
     "execution_count": 51,
     "metadata": {},
     "output_type": "execute_result"
    }
   ],
   "source": [
    "gs_log_reg.best_params_"
   ]
  },
  {
   "cell_type": "code",
   "execution_count": 54,
   "id": "47312605-4341-45e6-a2e1-099bd8bf652d",
   "metadata": {},
   "outputs": [
    {
     "data": {
      "text/html": [
       "<style>#sk-container-id-4 {color: black;}#sk-container-id-4 pre{padding: 0;}#sk-container-id-4 div.sk-toggleable {background-color: white;}#sk-container-id-4 label.sk-toggleable__label {cursor: pointer;display: block;width: 100%;margin-bottom: 0;padding: 0.3em;box-sizing: border-box;text-align: center;}#sk-container-id-4 label.sk-toggleable__label-arrow:before {content: \"▸\";float: left;margin-right: 0.25em;color: #696969;}#sk-container-id-4 label.sk-toggleable__label-arrow:hover:before {color: black;}#sk-container-id-4 div.sk-estimator:hover label.sk-toggleable__label-arrow:before {color: black;}#sk-container-id-4 div.sk-toggleable__content {max-height: 0;max-width: 0;overflow: hidden;text-align: left;background-color: #f0f8ff;}#sk-container-id-4 div.sk-toggleable__content pre {margin: 0.2em;color: black;border-radius: 0.25em;background-color: #f0f8ff;}#sk-container-id-4 input.sk-toggleable__control:checked~div.sk-toggleable__content {max-height: 200px;max-width: 100%;overflow: auto;}#sk-container-id-4 input.sk-toggleable__control:checked~label.sk-toggleable__label-arrow:before {content: \"▾\";}#sk-container-id-4 div.sk-estimator input.sk-toggleable__control:checked~label.sk-toggleable__label {background-color: #d4ebff;}#sk-container-id-4 div.sk-label input.sk-toggleable__control:checked~label.sk-toggleable__label {background-color: #d4ebff;}#sk-container-id-4 input.sk-hidden--visually {border: 0;clip: rect(1px 1px 1px 1px);clip: rect(1px, 1px, 1px, 1px);height: 1px;margin: -1px;overflow: hidden;padding: 0;position: absolute;width: 1px;}#sk-container-id-4 div.sk-estimator {font-family: monospace;background-color: #f0f8ff;border: 1px dotted black;border-radius: 0.25em;box-sizing: border-box;margin-bottom: 0.5em;}#sk-container-id-4 div.sk-estimator:hover {background-color: #d4ebff;}#sk-container-id-4 div.sk-parallel-item::after {content: \"\";width: 100%;border-bottom: 1px solid gray;flex-grow: 1;}#sk-container-id-4 div.sk-label:hover label.sk-toggleable__label {background-color: #d4ebff;}#sk-container-id-4 div.sk-serial::before {content: \"\";position: absolute;border-left: 1px solid gray;box-sizing: border-box;top: 0;bottom: 0;left: 50%;z-index: 0;}#sk-container-id-4 div.sk-serial {display: flex;flex-direction: column;align-items: center;background-color: white;padding-right: 0.2em;padding-left: 0.2em;position: relative;}#sk-container-id-4 div.sk-item {position: relative;z-index: 1;}#sk-container-id-4 div.sk-parallel {display: flex;align-items: stretch;justify-content: center;background-color: white;position: relative;}#sk-container-id-4 div.sk-item::before, #sk-container-id-4 div.sk-parallel-item::before {content: \"\";position: absolute;border-left: 1px solid gray;box-sizing: border-box;top: 0;bottom: 0;left: 50%;z-index: -1;}#sk-container-id-4 div.sk-parallel-item {display: flex;flex-direction: column;z-index: 1;position: relative;background-color: white;}#sk-container-id-4 div.sk-parallel-item:first-child::after {align-self: flex-end;width: 50%;}#sk-container-id-4 div.sk-parallel-item:last-child::after {align-self: flex-start;width: 50%;}#sk-container-id-4 div.sk-parallel-item:only-child::after {width: 0;}#sk-container-id-4 div.sk-dashed-wrapped {border: 1px dashed gray;margin: 0 0.4em 0.5em 0.4em;box-sizing: border-box;padding-bottom: 0.4em;background-color: white;}#sk-container-id-4 div.sk-label label {font-family: monospace;font-weight: bold;display: inline-block;line-height: 1.2em;}#sk-container-id-4 div.sk-label-container {text-align: center;}#sk-container-id-4 div.sk-container {/* jupyter's `normalize.less` sets `[hidden] { display: none; }` but bootstrap.min.css set `[hidden] { display: none !important; }` so we also need the `!important` here to be able to override the default hidden behavior on the sphinx rendered scikit-learn.org. See: https://github.com/scikit-learn/scikit-learn/issues/21755 */display: inline-block !important;position: relative;}#sk-container-id-4 div.sk-text-repr-fallback {display: none;}</style><div id=\"sk-container-id-4\" class=\"sk-top-container\"><div class=\"sk-text-repr-fallback\"><pre>LogisticRegression(C=0.38566204211634725, solver=&#x27;liblinear&#x27;)</pre><b>In a Jupyter environment, please rerun this cell to show the HTML representation or trust the notebook. <br />On GitHub, the HTML representation is unable to render, please try loading this page with nbviewer.org.</b></div><div class=\"sk-container\" hidden><div class=\"sk-item\"><div class=\"sk-estimator sk-toggleable\"><input class=\"sk-toggleable__control sk-hidden--visually\" id=\"sk-estimator-id-10\" type=\"checkbox\" checked><label for=\"sk-estimator-id-10\" class=\"sk-toggleable__label sk-toggleable__label-arrow\">LogisticRegression</label><div class=\"sk-toggleable__content\"><pre>LogisticRegression(C=0.38566204211634725, solver=&#x27;liblinear&#x27;)</pre></div></div></div></div></div>"
      ],
      "text/plain": [
       "LogisticRegression(C=0.38566204211634725, solver='liblinear')"
      ]
     },
     "execution_count": 54,
     "metadata": {},
     "output_type": "execute_result"
    }
   ],
   "source": [
    "clf=LogisticRegression(C= 0.38566204211634725, solver= \"liblinear\")\n",
    "clf.fit(x_train,y_train)"
   ]
  },
  {
   "cell_type": "code",
   "execution_count": 57,
   "id": "73904ccd-a612-42fb-a382-280595a8e037",
   "metadata": {},
   "outputs": [
    {
     "data": {
      "text/plain": [
       "array([[ 0.02197236, -1.18335341,  0.75710349, -0.02334371, -0.00174918,\n",
       "         0.35582101,  0.35391354,  0.03440847, -0.70025818, -0.56110473,\n",
       "         0.46102509, -0.6150093 , -1.02087279]])"
      ]
     },
     "execution_count": 57,
     "metadata": {},
     "output_type": "execute_result"
    }
   ],
   "source": [
    "clf.coef_"
   ]
  },
  {
   "cell_type": "code",
   "execution_count": 59,
   "id": "9d09379a-78a8-4452-bbfb-51555ae6e5be",
   "metadata": {},
   "outputs": [
    {
     "data": {
      "text/plain": [
       "{'age': 0.021972357012955746,\n",
       " 'sex': -1.1833534103226884,\n",
       " 'cp': 0.7571034855705739,\n",
       " 'trestbps': -0.023343707311475607,\n",
       " 'chol': -0.0017491762501505052,\n",
       " 'fbs': 0.35582101135605854,\n",
       " 'restecg': 0.3539135426675883,\n",
       " 'thalach': 0.03440847192379248,\n",
       " 'exang': -0.7002581803692648,\n",
       " 'oldpeak': -0.5611047325768159,\n",
       " 'slope': 0.46102508508631446,\n",
       " 'ca': -0.6150093036750026,\n",
       " 'thal': -1.0208727891239595}"
      ]
     },
     "execution_count": 59,
     "metadata": {},
     "output_type": "execute_result"
    }
   ],
   "source": [
    "feature_dict=dict(zip(df.columns,list(clf.coef_[0])))\n",
    "feature_dict"
   ]
  },
  {
   "cell_type": "code",
   "execution_count": 64,
   "id": "6001e6da-bb8a-4cd8-87a5-428dda8656f2",
   "metadata": {},
   "outputs": [
    {
     "data": {
      "text/plain": [
       "<Axes: title={'center': 'Feature Importance'}>"
      ]
     },
     "execution_count": 64,
     "metadata": {},
     "output_type": "execute_result"
    },
    {
     "data": {
      "image/png": "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",
      "text/plain": [
       "<Figure size 640x480 with 1 Axes>"
      ]
     },
     "metadata": {},
     "output_type": "display_data"
    }
   ],
   "source": [
    "feature_df=pd.DataFrame(feature_dict,index=[0])\n",
    "feature_df.T.plot.bar(title=\"Feature Importance\",legend=False)\n",
    "#contribution of each feature in detecting the heart disease"
   ]
  },
  {
   "cell_type": "code",
   "execution_count": 65,
   "id": "f470cf91-ee06-4b86-9efd-81e131e9fda3",
   "metadata": {},
   "outputs": [
    {
     "data": {
      "text/html": [
       "<div>\n",
       "<style scoped>\n",
       "    .dataframe tbody tr th:only-of-type {\n",
       "        vertical-align: middle;\n",
       "    }\n",
       "\n",
       "    .dataframe tbody tr th {\n",
       "        vertical-align: top;\n",
       "    }\n",
       "\n",
       "    .dataframe thead th {\n",
       "        text-align: right;\n",
       "    }\n",
       "</style>\n",
       "<table border=\"1\" class=\"dataframe\">\n",
       "  <thead>\n",
       "    <tr style=\"text-align: right;\">\n",
       "      <th>target</th>\n",
       "      <th>0</th>\n",
       "      <th>1</th>\n",
       "    </tr>\n",
       "    <tr>\n",
       "      <th>sex</th>\n",
       "      <th></th>\n",
       "      <th></th>\n",
       "    </tr>\n",
       "  </thead>\n",
       "  <tbody>\n",
       "    <tr>\n",
       "      <th>0</th>\n",
       "      <td>24</td>\n",
       "      <td>72</td>\n",
       "    </tr>\n",
       "    <tr>\n",
       "      <th>1</th>\n",
       "      <td>114</td>\n",
       "      <td>93</td>\n",
       "    </tr>\n",
       "  </tbody>\n",
       "</table>\n",
       "</div>"
      ],
      "text/plain": [
       "target    0   1\n",
       "sex            \n",
       "0        24  72\n",
       "1       114  93"
      ]
     },
     "execution_count": 65,
     "metadata": {},
     "output_type": "execute_result"
    }
   ],
   "source": [
    "pd.crosstab(df[\"sex\"], df[\"target\"])"
   ]
  },
  {
   "cell_type": "code",
   "execution_count": 66,
   "id": "a41e35fb-6388-46e8-98a7-cc6280b89f90",
   "metadata": {},
   "outputs": [
    {
     "data": {
      "text/html": [
       "<div>\n",
       "<style scoped>\n",
       "    .dataframe tbody tr th:only-of-type {\n",
       "        vertical-align: middle;\n",
       "    }\n",
       "\n",
       "    .dataframe tbody tr th {\n",
       "        vertical-align: top;\n",
       "    }\n",
       "\n",
       "    .dataframe thead th {\n",
       "        text-align: right;\n",
       "    }\n",
       "</style>\n",
       "<table border=\"1\" class=\"dataframe\">\n",
       "  <thead>\n",
       "    <tr style=\"text-align: right;\">\n",
       "      <th>target</th>\n",
       "      <th>0</th>\n",
       "      <th>1</th>\n",
       "    </tr>\n",
       "    <tr>\n",
       "      <th>slope</th>\n",
       "      <th></th>\n",
       "      <th></th>\n",
       "    </tr>\n",
       "  </thead>\n",
       "  <tbody>\n",
       "    <tr>\n",
       "      <th>0</th>\n",
       "      <td>12</td>\n",
       "      <td>9</td>\n",
       "    </tr>\n",
       "    <tr>\n",
       "      <th>1</th>\n",
       "      <td>91</td>\n",
       "      <td>49</td>\n",
       "    </tr>\n",
       "    <tr>\n",
       "      <th>2</th>\n",
       "      <td>35</td>\n",
       "      <td>107</td>\n",
       "    </tr>\n",
       "  </tbody>\n",
       "</table>\n",
       "</div>"
      ],
      "text/plain": [
       "target   0    1\n",
       "slope          \n",
       "0       12    9\n",
       "1       91   49\n",
       "2       35  107"
      ]
     },
     "execution_count": 66,
     "metadata": {},
     "output_type": "execute_result"
    }
   ],
   "source": [
    "pd.crosstab(df[\"slope\"], df[\"target\"])\n"
   ]
  },

